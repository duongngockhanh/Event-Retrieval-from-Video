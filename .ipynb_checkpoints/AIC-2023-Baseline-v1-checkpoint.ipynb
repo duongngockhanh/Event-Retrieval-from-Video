{
 "cells": [
  {
   "cell_type": "markdown",
   "id": "5fcc581b",
   "metadata": {
    "id": "5fcc581b"
   },
   "source": [
    "# Hướng dẫn truy vấn dữ liệu thị giác dùng fiftyone\n",
    "\n",
    "Đây là hướng dẫn dùng cho các đội tham dự AI Challenge 2023. Hướng dẫn này nhằm mục đích giới thiệu cho các đội một phương pháp cơ bản để truy vấn dữ liệu dựa trên thông tin BTC cung cấp và giới thiệu công cụ fiftyone để hỗ trợ đội thi đánh giá kết quả.\n",
    "\n",
    "## Cài đặt ban đầu\n",
    "\n",
    "Bạn cần cài đặt môi trường để chạy được notebook này trên máy tính cá nhân của bạn. Hướng dẫn này không bao gồm phần cài đặt môi trường. Khuyến nghị: các bạn có thể cài đặt [Anaconda](https://docs.anaconda.com/free/anaconda/install/windows/).\n",
    "\n",
    "## Cài đặt các thư viện FiftyOne và PyTorch\n",
    "Hướng dẫn này dùng fiftyone là công cụ để trực quan dữ liệu và pytorch là backend chính cho các thuật toán máy học.\n",
    "\n",
    "### Lưu ý: Đối với các bạn dùng Windows nên dùng bản fiftyone **v0.21.4**, không nên dùng bản mới nhất!"
   ]
  },
  {
   "cell_type": "code",
   "execution_count": 1,
   "id": "f5a576d0",
   "metadata": {
    "id": "f5a576d0"
   },
   "outputs": [
    {
     "name": "stdout",
     "output_type": "stream",
     "text": [
      "Collecting fiftyone==0.21.4\n",
      "  Downloading fiftyone-0.21.4-py3-none-any.whl (7.7 MB)\n",
      "\u001b[2K     \u001b[38;2;114;156;31m━━━━━━━━━━━━━━━━━━━━━━━━━━━━━━━━━━━━━━━━\u001b[0m \u001b[32m7.7/7.7 MB\u001b[0m \u001b[31m1.7 MB/s\u001b[0m eta \u001b[36m0:00:00\u001b[0mm eta \u001b[36m0:00:01\u001b[0m0:01\u001b[0m:01\u001b[0m0m\n",
      "\u001b[?25hRequirement already satisfied: aiofiles in /Users/khanhmac/miniconda3/envs/general/lib/python3.8/site-packages (from fiftyone==0.21.4) (23.2.1)\n",
      "Requirement already satisfied: argcomplete in /Users/khanhmac/miniconda3/envs/general/lib/python3.8/site-packages (from fiftyone==0.21.4) (3.1.1)\n",
      "Requirement already satisfied: boto3 in /Users/khanhmac/miniconda3/envs/general/lib/python3.8/site-packages (from fiftyone==0.21.4) (1.28.30)\n",
      "Requirement already satisfied: cachetools in /Users/khanhmac/miniconda3/envs/general/lib/python3.8/site-packages (from fiftyone==0.21.4) (5.3.1)\n",
      "Requirement already satisfied: dacite<1.8.0,>=1.6.0 in /Users/khanhmac/miniconda3/envs/general/lib/python3.8/site-packages (from fiftyone==0.21.4) (1.7.0)\n",
      "Requirement already satisfied: Deprecated in /Users/khanhmac/miniconda3/envs/general/lib/python3.8/site-packages (from fiftyone==0.21.4) (1.2.14)\n",
      "Collecting eventlet (from fiftyone==0.21.4)\n",
      "  Downloading eventlet-0.33.3-py2.py3-none-any.whl (226 kB)\n",
      "\u001b[2K     \u001b[38;2;114;156;31m━━━━━━━━━━━━━━━━━━━━━━━━━━━━━━━━━━━━━━━\u001b[0m \u001b[32m226.8/226.8 kB\u001b[0m \u001b[31m2.4 MB/s\u001b[0m eta \u001b[36m0:00:00\u001b[0mm eta \u001b[36m0:00:01\u001b[0m[36m0:00:01\u001b[0m\n",
      "\u001b[?25hRequirement already satisfied: ftfy in /Users/khanhmac/miniconda3/envs/general/lib/python3.8/site-packages (from fiftyone==0.21.4) (6.1.1)\n",
      "Requirement already satisfied: future in /Users/khanhmac/miniconda3/envs/general/lib/python3.8/site-packages (from fiftyone==0.21.4) (0.18.3)\n",
      "Requirement already satisfied: hypercorn>=0.13.2 in /Users/khanhmac/miniconda3/envs/general/lib/python3.8/site-packages (from fiftyone==0.21.4) (0.14.4)\n",
      "Requirement already satisfied: Jinja2>=3 in /Users/khanhmac/miniconda3/envs/general/lib/python3.8/site-packages (from fiftyone==0.21.4) (3.1.2)\n",
      "Requirement already satisfied: kaleido in /Users/khanhmac/miniconda3/envs/general/lib/python3.8/site-packages (from fiftyone==0.21.4) (0.2.1)\n",
      "Requirement already satisfied: matplotlib in /Users/khanhmac/miniconda3/envs/general/lib/python3.8/site-packages (from fiftyone==0.21.4) (3.6.0)\n",
      "Requirement already satisfied: mongoengine==0.24.2 in /Users/khanhmac/miniconda3/envs/general/lib/python3.8/site-packages (from fiftyone==0.21.4) (0.24.2)\n",
      "Requirement already satisfied: motor>=2.5 in /Users/khanhmac/miniconda3/envs/general/lib/python3.8/site-packages (from fiftyone==0.21.4) (3.2.0)\n",
      "Requirement already satisfied: numpy in /Users/khanhmac/miniconda3/envs/general/lib/python3.8/site-packages (from fiftyone==0.21.4) (1.23.3)\n",
      "Requirement already satisfied: packaging in /Users/khanhmac/miniconda3/envs/general/lib/python3.8/site-packages (from fiftyone==0.21.4) (23.1)\n",
      "Requirement already satisfied: pandas in /Users/khanhmac/miniconda3/envs/general/lib/python3.8/site-packages (from fiftyone==0.21.4) (1.5.0)\n",
      "Requirement already satisfied: Pillow>=6.2 in /Users/khanhmac/miniconda3/envs/general/lib/python3.8/site-packages (from fiftyone==0.21.4) (10.0.0)\n",
      "Requirement already satisfied: plotly>=4.14 in /Users/khanhmac/miniconda3/envs/general/lib/python3.8/site-packages (from fiftyone==0.21.4) (5.15.0)\n",
      "Requirement already satisfied: pprintpp in /Users/khanhmac/miniconda3/envs/general/lib/python3.8/site-packages (from fiftyone==0.21.4) (0.4.0)\n",
      "Requirement already satisfied: psutil in /Users/khanhmac/miniconda3/envs/general/lib/python3.8/site-packages (from fiftyone==0.21.4) (5.9.5)\n",
      "Requirement already satisfied: pymongo>=3.12 in /Users/khanhmac/miniconda3/envs/general/lib/python3.8/site-packages (from fiftyone==0.21.4) (4.4.1)\n",
      "Requirement already satisfied: pytz in /Users/khanhmac/miniconda3/envs/general/lib/python3.8/site-packages (from fiftyone==0.21.4) (2023.3)\n",
      "Requirement already satisfied: PyYAML in /Users/khanhmac/miniconda3/envs/general/lib/python3.8/site-packages (from fiftyone==0.21.4) (6.0)\n",
      "Requirement already satisfied: regex in /Users/khanhmac/miniconda3/envs/general/lib/python3.8/site-packages (from fiftyone==0.21.4) (2022.9.13)\n",
      "Requirement already satisfied: retrying in /Users/khanhmac/miniconda3/envs/general/lib/python3.8/site-packages (from fiftyone==0.21.4) (1.3.4)\n",
      "Requirement already satisfied: scikit-learn in /Users/khanhmac/miniconda3/envs/general/lib/python3.8/site-packages (from fiftyone==0.21.4) (1.3.0)\n",
      "Requirement already satisfied: scikit-image in /Users/khanhmac/miniconda3/envs/general/lib/python3.8/site-packages (from fiftyone==0.21.4) (0.21.0)\n",
      "Requirement already satisfied: setuptools in /Users/khanhmac/miniconda3/envs/general/lib/python3.8/site-packages (from fiftyone==0.21.4) (67.8.0)\n",
      "Requirement already satisfied: sseclient-py<2,>=1.7.2 in /Users/khanhmac/miniconda3/envs/general/lib/python3.8/site-packages (from fiftyone==0.21.4) (1.7.2)\n",
      "Requirement already satisfied: sse-starlette<1,>=0.10.3 in /Users/khanhmac/miniconda3/envs/general/lib/python3.8/site-packages (from fiftyone==0.21.4) (0.10.3)\n",
      "Collecting starlette<0.27,>=0.24.0 (from fiftyone==0.21.4)\n",
      "  Using cached starlette-0.26.1-py3-none-any.whl (66 kB)\n",
      "Requirement already satisfied: strawberry-graphql==0.138.1 in /Users/khanhmac/miniconda3/envs/general/lib/python3.8/site-packages (from fiftyone==0.21.4) (0.138.1)\n",
      "Requirement already satisfied: tabulate in /Users/khanhmac/miniconda3/envs/general/lib/python3.8/site-packages (from fiftyone==0.21.4) (0.9.0)\n",
      "Requirement already satisfied: xmltodict in /Users/khanhmac/miniconda3/envs/general/lib/python3.8/site-packages (from fiftyone==0.21.4) (0.13.0)\n",
      "Requirement already satisfied: universal-analytics-python3<2,>=1.0.1 in /Users/khanhmac/miniconda3/envs/general/lib/python3.8/site-packages (from fiftyone==0.21.4) (1.1.1)\n",
      "Requirement already satisfied: fiftyone-brain<0.14,>=0.13 in /Users/khanhmac/miniconda3/envs/general/lib/python3.8/site-packages (from fiftyone==0.21.4) (0.13.1)\n",
      "Requirement already satisfied: fiftyone-db<0.5,>=0.4 in /Users/khanhmac/miniconda3/envs/general/lib/python3.8/site-packages (from fiftyone==0.21.4) (0.4.0)\n",
      "Collecting voxel51-eta<0.11,>=0.10 (from fiftyone==0.21.4)\n",
      "  Downloading voxel51_eta-0.10.0-py2.py3-none-any.whl (568 kB)\n",
      "\u001b[2K     \u001b[38;2;114;156;31m━━━━━━━━━━━━━━━━━━━━━━━━━━━━━━━━━━━━━━━\u001b[0m \u001b[32m568.9/568.9 kB\u001b[0m \u001b[31m3.3 MB/s\u001b[0m eta \u001b[36m0:00:00\u001b[0mm eta \u001b[36m0:00:01\u001b[0m0:01\u001b[0m:01\u001b[0m\n",
      "\u001b[?25hRequirement already satisfied: opencv-python-headless in /Users/khanhmac/miniconda3/envs/general/lib/python3.8/site-packages (from fiftyone==0.21.4) (4.8.0.76)\n",
      "Requirement already satisfied: graphql-core<3.3.0,>=3.2.0 in /Users/khanhmac/miniconda3/envs/general/lib/python3.8/site-packages (from strawberry-graphql==0.138.1->fiftyone==0.21.4) (3.2.3)\n",
      "Requirement already satisfied: python-dateutil<3.0.0,>=2.7.0 in /Users/khanhmac/miniconda3/envs/general/lib/python3.8/site-packages (from strawberry-graphql==0.138.1->fiftyone==0.21.4) (2.8.2)\n",
      "Requirement already satisfied: typing_extensions<5.0.0,>=3.7.4 in /Users/khanhmac/miniconda3/envs/general/lib/python3.8/site-packages (from strawberry-graphql==0.138.1->fiftyone==0.21.4) (4.7.1)\n",
      "Requirement already satisfied: scipy>=1.2.0 in /Users/khanhmac/miniconda3/envs/general/lib/python3.8/site-packages (from fiftyone-brain<0.14,>=0.13->fiftyone==0.21.4) (1.10.1)\n",
      "Requirement already satisfied: h11 in /Users/khanhmac/miniconda3/envs/general/lib/python3.8/site-packages (from hypercorn>=0.13.2->fiftyone==0.21.4) (0.9.0)\n",
      "Requirement already satisfied: h2>=3.1.0 in /Users/khanhmac/miniconda3/envs/general/lib/python3.8/site-packages (from hypercorn>=0.13.2->fiftyone==0.21.4) (3.2.0)\n",
      "Requirement already satisfied: priority in /Users/khanhmac/miniconda3/envs/general/lib/python3.8/site-packages (from hypercorn>=0.13.2->fiftyone==0.21.4) (2.0.0)\n",
      "Requirement already satisfied: tomli in /Users/khanhmac/miniconda3/envs/general/lib/python3.8/site-packages (from hypercorn>=0.13.2->fiftyone==0.21.4) (2.0.1)\n",
      "Requirement already satisfied: wsproto>=0.14.0 in /Users/khanhmac/miniconda3/envs/general/lib/python3.8/site-packages (from hypercorn>=0.13.2->fiftyone==0.21.4) (1.2.0)\n",
      "Requirement already satisfied: MarkupSafe>=2.0 in /Users/khanhmac/miniconda3/envs/general/lib/python3.8/site-packages (from Jinja2>=3->fiftyone==0.21.4) (2.1.3)\n"
     ]
    },
    {
     "name": "stdout",
     "output_type": "stream",
     "text": [
      "Requirement already satisfied: tenacity>=6.2.0 in /Users/khanhmac/miniconda3/envs/general/lib/python3.8/site-packages (from plotly>=4.14->fiftyone==0.21.4) (8.2.2)\n",
      "Requirement already satisfied: dnspython<3.0.0,>=1.16.0 in /Users/khanhmac/miniconda3/envs/general/lib/python3.8/site-packages (from pymongo>=3.12->fiftyone==0.21.4) (2.4.2)\n",
      "Requirement already satisfied: anyio<5,>=3.4.0 in /Users/khanhmac/miniconda3/envs/general/lib/python3.8/site-packages (from starlette<0.27,>=0.24.0->fiftyone==0.21.4) (3.7.1)\n",
      "Requirement already satisfied: httpx>=0.10.0 in /Users/khanhmac/miniconda3/envs/general/lib/python3.8/site-packages (from universal-analytics-python3<2,>=1.0.1->fiftyone==0.21.4) (0.13.3)\n",
      "Requirement already satisfied: dill in /Users/khanhmac/miniconda3/envs/general/lib/python3.8/site-packages (from voxel51-eta<0.11,>=0.10->fiftyone==0.21.4) (0.3.7)\n",
      "Requirement already satisfied: glob2 in /Users/khanhmac/miniconda3/envs/general/lib/python3.8/site-packages (from voxel51-eta<0.11,>=0.10->fiftyone==0.21.4) (0.7)\n",
      "Requirement already satisfied: jsonlines in /Users/khanhmac/miniconda3/envs/general/lib/python3.8/site-packages (from voxel51-eta<0.11,>=0.10->fiftyone==0.21.4) (3.1.0)\n",
      "Requirement already satisfied: py7zr in /Users/khanhmac/miniconda3/envs/general/lib/python3.8/site-packages (from voxel51-eta<0.11,>=0.10->fiftyone==0.21.4) (0.20.6)\n",
      "Requirement already satisfied: rarfile in /Users/khanhmac/miniconda3/envs/general/lib/python3.8/site-packages (from voxel51-eta<0.11,>=0.10->fiftyone==0.21.4) (4.0)\n",
      "Requirement already satisfied: requests in /Users/khanhmac/miniconda3/envs/general/lib/python3.8/site-packages (from voxel51-eta<0.11,>=0.10->fiftyone==0.21.4) (2.31.0)\n",
      "Requirement already satisfied: six in /Users/khanhmac/miniconda3/envs/general/lib/python3.8/site-packages (from voxel51-eta<0.11,>=0.10->fiftyone==0.21.4) (1.16.0)\n",
      "Requirement already satisfied: sortedcontainers in /Users/khanhmac/miniconda3/envs/general/lib/python3.8/site-packages (from voxel51-eta<0.11,>=0.10->fiftyone==0.21.4) (2.4.0)\n",
      "Requirement already satisfied: tzlocal in /Users/khanhmac/miniconda3/envs/general/lib/python3.8/site-packages (from voxel51-eta<0.11,>=0.10->fiftyone==0.21.4) (5.0.1)\n",
      "Requirement already satisfied: urllib3 in /Users/khanhmac/miniconda3/envs/general/lib/python3.8/site-packages (from voxel51-eta<0.11,>=0.10->fiftyone==0.21.4) (1.26.16)\n",
      "Requirement already satisfied: botocore<1.32.0,>=1.31.30 in /Users/khanhmac/miniconda3/envs/general/lib/python3.8/site-packages (from boto3->fiftyone==0.21.4) (1.31.30)\n",
      "Requirement already satisfied: jmespath<2.0.0,>=0.7.1 in /Users/khanhmac/miniconda3/envs/general/lib/python3.8/site-packages (from boto3->fiftyone==0.21.4) (1.0.1)\n",
      "Requirement already satisfied: s3transfer<0.7.0,>=0.6.0 in /Users/khanhmac/miniconda3/envs/general/lib/python3.8/site-packages (from boto3->fiftyone==0.21.4) (0.6.2)\n",
      "Requirement already satisfied: wrapt<2,>=1.10 in /Users/khanhmac/miniconda3/envs/general/lib/python3.8/site-packages (from Deprecated->fiftyone==0.21.4) (1.15.0)\n",
      "Collecting greenlet>=0.3 (from eventlet->fiftyone==0.21.4)\n",
      "  Downloading greenlet-2.0.2-cp38-cp38-macosx_10_15_x86_64.whl (241 kB)\n",
      "\u001b[2K     \u001b[38;2;114;156;31m━━━━━━━━━━━━━━━━━━━━━━━━━━━━━━━━━━━━━━━\u001b[0m \u001b[32m241.7/241.7 kB\u001b[0m \u001b[31m2.7 MB/s\u001b[0m eta \u001b[36m0:00:00\u001b[0m[36m0:00:01\u001b[0mm eta \u001b[36m0:00:01\u001b[0m\n",
      "\u001b[?25hRequirement already satisfied: wcwidth>=0.2.5 in /Users/khanhmac/miniconda3/envs/general/lib/python3.8/site-packages (from ftfy->fiftyone==0.21.4) (0.2.6)\n",
      "Requirement already satisfied: contourpy>=1.0.1 in /Users/khanhmac/miniconda3/envs/general/lib/python3.8/site-packages (from matplotlib->fiftyone==0.21.4) (1.1.0)\n",
      "Requirement already satisfied: cycler>=0.10 in /Users/khanhmac/miniconda3/envs/general/lib/python3.8/site-packages (from matplotlib->fiftyone==0.21.4) (0.11.0)\n",
      "Requirement already satisfied: fonttools>=4.22.0 in /Users/khanhmac/miniconda3/envs/general/lib/python3.8/site-packages (from matplotlib->fiftyone==0.21.4) (4.40.0)\n",
      "Requirement already satisfied: kiwisolver>=1.0.1 in /Users/khanhmac/miniconda3/envs/general/lib/python3.8/site-packages (from matplotlib->fiftyone==0.21.4) (1.4.4)\n",
      "Requirement already satisfied: pyparsing>=2.2.1 in /Users/khanhmac/miniconda3/envs/general/lib/python3.8/site-packages (from matplotlib->fiftyone==0.21.4) (3.0.9)\n",
      "Requirement already satisfied: networkx>=2.8 in /Users/khanhmac/miniconda3/envs/general/lib/python3.8/site-packages (from scikit-image->fiftyone==0.21.4) (3.1)\n",
      "Requirement already satisfied: imageio>=2.27 in /Users/khanhmac/miniconda3/envs/general/lib/python3.8/site-packages (from scikit-image->fiftyone==0.21.4) (2.31.1)\n",
      "Requirement already satisfied: tifffile>=2022.8.12 in /Users/khanhmac/miniconda3/envs/general/lib/python3.8/site-packages (from scikit-image->fiftyone==0.21.4) (2023.7.10)\n",
      "Requirement already satisfied: PyWavelets>=1.1.1 in /Users/khanhmac/miniconda3/envs/general/lib/python3.8/site-packages (from scikit-image->fiftyone==0.21.4) (1.4.1)\n",
      "Requirement already satisfied: lazy_loader>=0.2 in /Users/khanhmac/miniconda3/envs/general/lib/python3.8/site-packages (from scikit-image->fiftyone==0.21.4) (0.3)\n",
      "Requirement already satisfied: joblib>=1.1.1 in /Users/khanhmac/miniconda3/envs/general/lib/python3.8/site-packages (from scikit-learn->fiftyone==0.21.4) (1.3.1)\n",
      "Requirement already satisfied: threadpoolctl>=2.0.0 in /Users/khanhmac/miniconda3/envs/general/lib/python3.8/site-packages (from scikit-learn->fiftyone==0.21.4) (3.2.0)\n",
      "Requirement already satisfied: idna>=2.8 in /Users/khanhmac/miniconda3/envs/general/lib/python3.8/site-packages (from anyio<5,>=3.4.0->starlette<0.27,>=0.24.0->fiftyone==0.21.4) (2.10)\n",
      "Requirement already satisfied: sniffio>=1.1 in /Users/khanhmac/miniconda3/envs/general/lib/python3.8/site-packages (from anyio<5,>=3.4.0->starlette<0.27,>=0.24.0->fiftyone==0.21.4) (1.3.0)\n",
      "Requirement already satisfied: exceptiongroup in /Users/khanhmac/miniconda3/envs/general/lib/python3.8/site-packages (from anyio<5,>=3.4.0->starlette<0.27,>=0.24.0->fiftyone==0.21.4) (1.1.2)\n",
      "Requirement already satisfied: hyperframe<6,>=5.2.0 in /Users/khanhmac/miniconda3/envs/general/lib/python3.8/site-packages (from h2>=3.1.0->hypercorn>=0.13.2->fiftyone==0.21.4) (5.2.0)\n",
      "Requirement already satisfied: hpack<4,>=3.0 in /Users/khanhmac/miniconda3/envs/general/lib/python3.8/site-packages (from h2>=3.1.0->hypercorn>=0.13.2->fiftyone==0.21.4) (3.0.0)\n",
      "Requirement already satisfied: certifi in /Users/khanhmac/miniconda3/envs/general/lib/python3.8/site-packages (from httpx>=0.10.0->universal-analytics-python3<2,>=1.0.1->fiftyone==0.21.4) (2023.7.22)\n",
      "Requirement already satisfied: hstspreload in /Users/khanhmac/miniconda3/envs/general/lib/python3.8/site-packages (from httpx>=0.10.0->universal-analytics-python3<2,>=1.0.1->fiftyone==0.21.4) (2023.1.1)\n",
      "Requirement already satisfied: chardet==3.* in /Users/khanhmac/miniconda3/envs/general/lib/python3.8/site-packages (from httpx>=0.10.0->universal-analytics-python3<2,>=1.0.1->fiftyone==0.21.4) (3.0.4)\n",
      "Requirement already satisfied: rfc3986<2,>=1.3 in /Users/khanhmac/miniconda3/envs/general/lib/python3.8/site-packages (from httpx>=0.10.0->universal-analytics-python3<2,>=1.0.1->fiftyone==0.21.4) (1.5.0)\n",
      "Requirement already satisfied: httpcore==0.9.* in /Users/khanhmac/miniconda3/envs/general/lib/python3.8/site-packages (from httpx>=0.10.0->universal-analytics-python3<2,>=1.0.1->fiftyone==0.21.4) (0.9.1)\n",
      "Requirement already satisfied: attrs>=19.2.0 in /Users/khanhmac/miniconda3/envs/general/lib/python3.8/site-packages (from jsonlines->voxel51-eta<0.11,>=0.10->fiftyone==0.21.4) (23.1.0)\n",
      "Requirement already satisfied: texttable in /Users/khanhmac/miniconda3/envs/general/lib/python3.8/site-packages (from py7zr->voxel51-eta<0.11,>=0.10->fiftyone==0.21.4) (1.6.7)\n",
      "Requirement already satisfied: pycryptodomex>=3.6.6 in /Users/khanhmac/miniconda3/envs/general/lib/python3.8/site-packages (from py7zr->voxel51-eta<0.11,>=0.10->fiftyone==0.21.4) (3.18.0)\n",
      "Requirement already satisfied: pyzstd>=0.14.4 in /Users/khanhmac/miniconda3/envs/general/lib/python3.8/site-packages (from py7zr->voxel51-eta<0.11,>=0.10->fiftyone==0.21.4) (0.15.9)\n",
      "Requirement already satisfied: pyppmd<1.1.0,>=0.18.1 in /Users/khanhmac/miniconda3/envs/general/lib/python3.8/site-packages (from py7zr->voxel51-eta<0.11,>=0.10->fiftyone==0.21.4) (1.0.0)\n",
      "Requirement already satisfied: pybcj>=0.6.0 in /Users/khanhmac/miniconda3/envs/general/lib/python3.8/site-packages (from py7zr->voxel51-eta<0.11,>=0.10->fiftyone==0.21.4) (1.0.1)\n",
      "Requirement already satisfied: multivolumefile>=0.2.3 in /Users/khanhmac/miniconda3/envs/general/lib/python3.8/site-packages (from py7zr->voxel51-eta<0.11,>=0.10->fiftyone==0.21.4) (0.2.3)\n",
      "Requirement already satisfied: brotli>=1.0.9 in /Users/khanhmac/miniconda3/envs/general/lib/python3.8/site-packages (from py7zr->voxel51-eta<0.11,>=0.10->fiftyone==0.21.4) (1.0.9)\n",
      "Requirement already satisfied: inflate64>=0.3.1 in /Users/khanhmac/miniconda3/envs/general/lib/python3.8/site-packages (from py7zr->voxel51-eta<0.11,>=0.10->fiftyone==0.21.4) (0.3.1)\n",
      "Requirement already satisfied: charset-normalizer<4,>=2 in /Users/khanhmac/miniconda3/envs/general/lib/python3.8/site-packages (from requests->voxel51-eta<0.11,>=0.10->fiftyone==0.21.4) (3.2.0)\n"
     ]
    },
    {
     "name": "stdout",
     "output_type": "stream",
     "text": [
      "Requirement already satisfied: backports.zoneinfo in /Users/khanhmac/miniconda3/envs/general/lib/python3.8/site-packages (from tzlocal->voxel51-eta<0.11,>=0.10->fiftyone==0.21.4) (0.2.1)\n",
      "Installing collected packages: greenlet, starlette, eventlet, voxel51-eta, fiftyone\n",
      "  Attempting uninstall: starlette\n",
      "    Found existing installation: starlette 0.31.0\n",
      "    Uninstalling starlette-0.31.0:\n",
      "      Successfully uninstalled starlette-0.31.0\n",
      "  Attempting uninstall: voxel51-eta\n",
      "    Found existing installation: voxel51-eta 0.11.0\n",
      "    Uninstalling voxel51-eta-0.11.0:\n",
      "      Successfully uninstalled voxel51-eta-0.11.0\n",
      "  Attempting uninstall: fiftyone\n",
      "    Found existing installation: fiftyone 0.21.6\n",
      "    Uninstalling fiftyone-0.21.6:\n",
      "      Successfully uninstalled fiftyone-0.21.6\n",
      "Successfully installed eventlet-0.33.3 fiftyone-0.21.4 greenlet-2.0.2 starlette-0.26.1 voxel51-eta-0.10.0\n",
      "Requirement already satisfied: torch in /Users/khanhmac/miniconda3/envs/general/lib/python3.8/site-packages (2.0.1)\n",
      "Requirement already satisfied: torchvision in /Users/khanhmac/miniconda3/envs/general/lib/python3.8/site-packages (0.15.2)\n",
      "Collecting torchaudio\n",
      "  Downloading torchaudio-2.0.2-cp38-cp38-macosx_10_9_x86_64.whl (3.9 MB)\n",
      "\u001b[2K     \u001b[38;2;114;156;31m━━━━━━━━━━━━━━━━━━━━━━━━━━━━━━━━━━━━━━━━\u001b[0m \u001b[32m3.9/3.9 MB\u001b[0m \u001b[31m3.8 MB/s\u001b[0m eta \u001b[36m0:00:00\u001b[0mm eta \u001b[36m0:00:01\u001b[0m0:01\u001b[0m:01\u001b[0m\n",
      "\u001b[?25hRequirement already satisfied: filelock in /Users/khanhmac/miniconda3/envs/general/lib/python3.8/site-packages (from torch) (3.12.2)\n",
      "Requirement already satisfied: typing-extensions in /Users/khanhmac/miniconda3/envs/general/lib/python3.8/site-packages (from torch) (4.7.1)\n",
      "Requirement already satisfied: sympy in /Users/khanhmac/miniconda3/envs/general/lib/python3.8/site-packages (from torch) (1.12)\n",
      "Requirement already satisfied: networkx in /Users/khanhmac/miniconda3/envs/general/lib/python3.8/site-packages (from torch) (3.1)\n",
      "Requirement already satisfied: jinja2 in /Users/khanhmac/miniconda3/envs/general/lib/python3.8/site-packages (from torch) (3.1.2)\n",
      "Requirement already satisfied: numpy in /Users/khanhmac/miniconda3/envs/general/lib/python3.8/site-packages (from torchvision) (1.23.3)\n",
      "Requirement already satisfied: requests in /Users/khanhmac/miniconda3/envs/general/lib/python3.8/site-packages (from torchvision) (2.31.0)\n",
      "Requirement already satisfied: pillow!=8.3.*,>=5.3.0 in /Users/khanhmac/miniconda3/envs/general/lib/python3.8/site-packages (from torchvision) (10.0.0)\n",
      "Requirement already satisfied: MarkupSafe>=2.0 in /Users/khanhmac/miniconda3/envs/general/lib/python3.8/site-packages (from jinja2->torch) (2.1.3)\n",
      "Requirement already satisfied: charset-normalizer<4,>=2 in /Users/khanhmac/miniconda3/envs/general/lib/python3.8/site-packages (from requests->torchvision) (3.2.0)\n",
      "Requirement already satisfied: idna<4,>=2.5 in /Users/khanhmac/miniconda3/envs/general/lib/python3.8/site-packages (from requests->torchvision) (2.10)\n",
      "Requirement already satisfied: urllib3<3,>=1.21.1 in /Users/khanhmac/miniconda3/envs/general/lib/python3.8/site-packages (from requests->torchvision) (1.26.16)\n",
      "Requirement already satisfied: certifi>=2017.4.17 in /Users/khanhmac/miniconda3/envs/general/lib/python3.8/site-packages (from requests->torchvision) (2023.7.22)\n",
      "Requirement already satisfied: mpmath>=0.19 in /Users/khanhmac/miniconda3/envs/general/lib/python3.8/site-packages (from sympy->torch) (1.3.0)\n",
      "Installing collected packages: torchaudio\n",
      "Successfully installed torchaudio-2.0.2\n"
     ]
    }
   ],
   "source": [
    "! pip install fiftyone==0.21.4\n",
    "! pip install torch torchvision torchaudio\n"
   ]
  },
  {
   "cell_type": "markdown",
   "id": "fb9afb40",
   "metadata": {
    "id": "fb9afb40"
   },
   "source": [
    "Load dữ liệu keyframe từ thư mục chứa keyframe. Mỗi ảnh và thông tin đi kèm sau này sẽ được lưu trữ trong một Sample. Tất cả các Sample được lưu trong Dataset."
   ]
  },
  {
   "cell_type": "code",
   "execution_count": null,
   "id": "67742379",
   "metadata": {},
   "outputs": [
    {
     "name": "stdout",
     "output_type": "stream",
     "text": [
      "\u001b[31mERROR: Invalid requirement: '—'\u001b[0m\u001b[31m\r\n",
      "\u001b[0m"
     ]
    }
   ],
   "source": [
    "!pip install — upgrade httpcore"
   ]
  },
  {
   "cell_type": "code",
   "execution_count": 2,
   "id": "357d4489",
   "metadata": {
    "colab": {
     "base_uri": "https://localhost:8080/",
     "height": 402
    },
    "executionInfo": {
     "elapsed": 63974,
     "status": "error",
     "timestamp": 1692878838677,
     "user": {
      "displayName": "Khanh Duong",
      "userId": "02272471262918357102"
     },
     "user_tz": -420
    },
    "id": "357d4489",
    "outputId": "c4d5d764-3f20-4043-fa5c-893c511abbd5"
   },
   "outputs": [
    {
     "ename": "AttributeError",
     "evalue": "module 'httpcore' has no attribute 'NetworkBackend'",
     "output_type": "error",
     "traceback": [
      "\u001b[0;31m---------------------------------------------------------------------------\u001b[0m",
      "\u001b[0;31mAttributeError\u001b[0m                            Traceback (most recent call last)",
      "Cell \u001b[0;32mIn[2], line 1\u001b[0m\n\u001b[0;32m----> 1\u001b[0m \u001b[38;5;28;01mimport\u001b[39;00m \u001b[38;5;21;01mfiftyone\u001b[39;00m \u001b[38;5;28;01mas\u001b[39;00m \u001b[38;5;21;01mfo\u001b[39;00m\n\u001b[1;32m      2\u001b[0m \u001b[38;5;28;01mimport\u001b[39;00m \u001b[38;5;21;01mfiftyone\u001b[39;00m\u001b[38;5;21;01m.\u001b[39;00m\u001b[38;5;21;01mbrain\u001b[39;00m \u001b[38;5;28;01mas\u001b[39;00m \u001b[38;5;21;01mfob\u001b[39;00m\n\u001b[1;32m      3\u001b[0m \u001b[38;5;28;01mimport\u001b[39;00m \u001b[38;5;21;01mnumpy\u001b[39;00m \u001b[38;5;28;01mas\u001b[39;00m \u001b[38;5;21;01mnp\u001b[39;00m\n",
      "File \u001b[0;32m~/miniconda3/envs/general/lib/python3.8/site-packages/fiftyone/__init__.py:25\u001b[0m\n\u001b[1;32m     21\u001b[0m \u001b[38;5;28;01mimport\u001b[39;00m \u001b[38;5;21;01mfiftyone\u001b[39;00m\u001b[38;5;21;01m.\u001b[39;00m\u001b[38;5;21;01mconstants\u001b[39;00m \u001b[38;5;28;01mas\u001b[39;00m \u001b[38;5;21;01m_foc\u001b[39;00m\n\u001b[1;32m     23\u001b[0m __version__ \u001b[38;5;241m=\u001b[39m _foc\u001b[38;5;241m.\u001b[39mVERSION\n\u001b[0;32m---> 25\u001b[0m \u001b[38;5;28;01mfrom\u001b[39;00m \u001b[38;5;21;01mfiftyone\u001b[39;00m\u001b[38;5;21;01m.\u001b[39;00m\u001b[38;5;21;01m__public__\u001b[39;00m \u001b[38;5;28;01mimport\u001b[39;00m \u001b[38;5;241m*\u001b[39m\n\u001b[1;32m     27\u001b[0m \u001b[38;5;28;01mimport\u001b[39;00m \u001b[38;5;21;01mfiftyone\u001b[39;00m\u001b[38;5;21;01m.\u001b[39;00m\u001b[38;5;21;01mcore\u001b[39;00m\u001b[38;5;21;01m.\u001b[39;00m\u001b[38;5;21;01muid\u001b[39;00m \u001b[38;5;28;01mas\u001b[39;00m \u001b[38;5;21;01m_fou\u001b[39;00m\n\u001b[1;32m     28\u001b[0m \u001b[38;5;28;01mimport\u001b[39;00m \u001b[38;5;21;01mfiftyone\u001b[39;00m\u001b[38;5;21;01m.\u001b[39;00m\u001b[38;5;21;01mcore\u001b[39;00m\u001b[38;5;21;01m.\u001b[39;00m\u001b[38;5;21;01mlogging\u001b[39;00m \u001b[38;5;28;01mas\u001b[39;00m \u001b[38;5;21;01m_fol\u001b[39;00m\n",
      "File \u001b[0;32m~/miniconda3/envs/general/lib/python3.8/site-packages/fiftyone/__public__.py:9\u001b[0m\n\u001b[1;32m      1\u001b[0m \u001b[38;5;124;03m\"\"\"\u001b[39;00m\n\u001b[1;32m      2\u001b[0m \u001b[38;5;124;03mFiftyOne's public interface.\u001b[39;00m\n\u001b[1;32m      3\u001b[0m \n\u001b[0;32m   (...)\u001b[0m\n\u001b[1;32m      6\u001b[0m \u001b[38;5;124;03m|\u001b[39;00m\n\u001b[1;32m      7\u001b[0m \u001b[38;5;124;03m\"\"\"\u001b[39;00m\n\u001b[1;32m      8\u001b[0m \u001b[38;5;28;01mimport\u001b[39;00m \u001b[38;5;21;01mfiftyone\u001b[39;00m\u001b[38;5;21;01m.\u001b[39;00m\u001b[38;5;21;01mcore\u001b[39;00m\u001b[38;5;21;01m.\u001b[39;00m\u001b[38;5;21;01mconfig\u001b[39;00m \u001b[38;5;28;01mas\u001b[39;00m \u001b[38;5;21;01m_foc\u001b[39;00m\n\u001b[0;32m----> 9\u001b[0m \u001b[38;5;28;01mimport\u001b[39;00m \u001b[38;5;21;01mfiftyone\u001b[39;00m\u001b[38;5;21;01m.\u001b[39;00m\u001b[38;5;21;01mcore\u001b[39;00m\u001b[38;5;21;01m.\u001b[39;00m\u001b[38;5;21;01modm\u001b[39;00m \u001b[38;5;28;01mas\u001b[39;00m \u001b[38;5;21;01m_foo\u001b[39;00m\n\u001b[1;32m     11\u001b[0m config \u001b[38;5;241m=\u001b[39m _foc\u001b[38;5;241m.\u001b[39mload_config()\n\u001b[1;32m     12\u001b[0m annotation_config \u001b[38;5;241m=\u001b[39m _foc\u001b[38;5;241m.\u001b[39mload_annotation_config()\n",
      "File \u001b[0;32m~/miniconda3/envs/general/lib/python3.8/site-packages/fiftyone/core/odm/__init__.py:10\u001b[0m\n\u001b[1;32m      1\u001b[0m \u001b[38;5;124;03m\"\"\"\u001b[39;00m\n\u001b[1;32m      2\u001b[0m \u001b[38;5;124;03mODM package declaration.\u001b[39;00m\n\u001b[1;32m      3\u001b[0m \n\u001b[0;32m   (...)\u001b[0m\n\u001b[1;32m      6\u001b[0m \u001b[38;5;124;03m|\u001b[39;00m\n\u001b[1;32m      7\u001b[0m \u001b[38;5;124;03m\"\"\"\u001b[39;00m\n\u001b[1;32m      8\u001b[0m \u001b[38;5;28;01mimport\u001b[39;00m \u001b[38;5;21;01mtypes\u001b[39;00m\n\u001b[0;32m---> 10\u001b[0m \u001b[38;5;28;01mfrom\u001b[39;00m \u001b[38;5;21;01m.\u001b[39;00m\u001b[38;5;21;01mdatabase\u001b[39;00m \u001b[38;5;28;01mimport\u001b[39;00m (\n\u001b[1;32m     11\u001b[0m     aggregate,\n\u001b[1;32m     12\u001b[0m     get_db_config,\n\u001b[1;32m     13\u001b[0m     establish_db_conn,\n\u001b[1;32m     14\u001b[0m     get_db_client,\n\u001b[1;32m     15\u001b[0m     get_db_conn,\n\u001b[1;32m     16\u001b[0m     get_async_db_client,\n\u001b[1;32m     17\u001b[0m     get_async_db_conn,\n\u001b[1;32m     18\u001b[0m     drop_database,\n\u001b[1;32m     19\u001b[0m     sync_database,\n\u001b[1;32m     20\u001b[0m     list_datasets,\n\u001b[1;32m     21\u001b[0m     patch_saved_views,\n\u001b[1;32m     22\u001b[0m     patch_annotation_runs,\n\u001b[1;32m     23\u001b[0m     patch_brain_runs,\n\u001b[1;32m     24\u001b[0m     patch_evaluations,\n\u001b[1;32m     25\u001b[0m     delete_dataset,\n\u001b[1;32m     26\u001b[0m     delete_saved_view,\n\u001b[1;32m     27\u001b[0m     delete_saved_views,\n\u001b[1;32m     28\u001b[0m     delete_evaluation,\n\u001b[1;32m     29\u001b[0m     delete_evaluations,\n\u001b[1;32m     30\u001b[0m     delete_brain_run,\n\u001b[1;32m     31\u001b[0m     delete_brain_runs,\n\u001b[1;32m     32\u001b[0m     drop_collection,\n\u001b[1;32m     33\u001b[0m     drop_orphan_collections,\n\u001b[1;32m     34\u001b[0m     drop_orphan_saved_views,\n\u001b[1;32m     35\u001b[0m     drop_orphan_runs,\n\u001b[1;32m     36\u001b[0m     list_collections,\n\u001b[1;32m     37\u001b[0m     get_collection_stats,\n\u001b[1;32m     38\u001b[0m     stream_collection,\n\u001b[1;32m     39\u001b[0m     count_documents,\n\u001b[1;32m     40\u001b[0m     export_document,\n\u001b[1;32m     41\u001b[0m     export_collection,\n\u001b[1;32m     42\u001b[0m     import_document,\n\u001b[1;32m     43\u001b[0m     import_collection,\n\u001b[1;32m     44\u001b[0m     insert_documents,\n\u001b[1;32m     45\u001b[0m     bulk_write,\n\u001b[1;32m     46\u001b[0m )\n\u001b[1;32m     47\u001b[0m \u001b[38;5;28;01mfrom\u001b[39;00m \u001b[38;5;21;01m.\u001b[39;00m\u001b[38;5;21;01mdataset\u001b[39;00m \u001b[38;5;28;01mimport\u001b[39;00m (\n\u001b[1;32m     48\u001b[0m     SampleFieldDocument,\n\u001b[1;32m     49\u001b[0m     ColorScheme,\n\u001b[0;32m   (...)\u001b[0m\n\u001b[1;32m     53\u001b[0m     SidebarGroupDocument,\n\u001b[1;32m     54\u001b[0m )\n\u001b[1;32m     55\u001b[0m \u001b[38;5;28;01mfrom\u001b[39;00m \u001b[38;5;21;01m.\u001b[39;00m\u001b[38;5;21;01mdocument\u001b[39;00m \u001b[38;5;28;01mimport\u001b[39;00m (\n\u001b[1;32m     56\u001b[0m     Document,\n\u001b[1;32m     57\u001b[0m     SerializableDocument,\n\u001b[1;32m     58\u001b[0m )\n",
      "File \u001b[0;32m~/miniconda3/envs/general/lib/python3.8/site-packages/fiftyone/core/odm/database.py:17\u001b[0m\n\u001b[1;32m     15\u001b[0m \u001b[38;5;28;01mfrom\u001b[39;00m \u001b[38;5;21;01mbson\u001b[39;00m \u001b[38;5;28;01mimport\u001b[39;00m json_util, ObjectId\n\u001b[1;32m     16\u001b[0m \u001b[38;5;28;01mfrom\u001b[39;00m \u001b[38;5;21;01mbson\u001b[39;00m\u001b[38;5;21;01m.\u001b[39;00m\u001b[38;5;21;01mcodec_options\u001b[39;00m \u001b[38;5;28;01mimport\u001b[39;00m CodecOptions\n\u001b[0;32m---> 17\u001b[0m \u001b[38;5;28;01mfrom\u001b[39;00m \u001b[38;5;21;01mmongoengine\u001b[39;00m \u001b[38;5;28;01mimport\u001b[39;00m connect\n\u001b[1;32m     18\u001b[0m \u001b[38;5;28;01mimport\u001b[39;00m \u001b[38;5;21;01mmongoengine\u001b[39;00m\u001b[38;5;21;01m.\u001b[39;00m\u001b[38;5;21;01merrors\u001b[39;00m \u001b[38;5;28;01mas\u001b[39;00m \u001b[38;5;21;01mmoe\u001b[39;00m\n\u001b[1;32m     19\u001b[0m \u001b[38;5;28;01mimport\u001b[39;00m \u001b[38;5;21;01mmotor\u001b[39;00m\u001b[38;5;21;01m.\u001b[39;00m\u001b[38;5;21;01mmotor_asyncio\u001b[39;00m \u001b[38;5;28;01mas\u001b[39;00m \u001b[38;5;21;01mmtr\u001b[39;00m\n",
      "File \u001b[0;32m~/miniconda3/envs/general/lib/python3.8/site-packages/mongoengine/__init__.py:2\u001b[0m\n\u001b[1;32m      1\u001b[0m \u001b[38;5;66;03m# Import submodules so that we can expose their __all__\u001b[39;00m\n\u001b[0;32m----> 2\u001b[0m \u001b[38;5;28;01mfrom\u001b[39;00m \u001b[38;5;21;01mmongoengine\u001b[39;00m \u001b[38;5;28;01mimport\u001b[39;00m (\n\u001b[1;32m      3\u001b[0m     connection,\n\u001b[1;32m      4\u001b[0m     document,\n\u001b[1;32m      5\u001b[0m     errors,\n\u001b[1;32m      6\u001b[0m     fields,\n\u001b[1;32m      7\u001b[0m     queryset,\n\u001b[1;32m      8\u001b[0m     signals,\n\u001b[1;32m      9\u001b[0m )\n\u001b[1;32m     11\u001b[0m \u001b[38;5;66;03m# Import everything from each submodule so that it can be accessed via\u001b[39;00m\n\u001b[1;32m     12\u001b[0m \u001b[38;5;66;03m# mongoengine, e.g. instead of `from mongoengine.connection import connect`,\u001b[39;00m\n\u001b[1;32m     13\u001b[0m \u001b[38;5;66;03m# users can simply use `from mongoengine import connect`, or even\u001b[39;00m\n\u001b[1;32m     14\u001b[0m \u001b[38;5;66;03m# `from mongoengine import *` and then `connect('testdb')`.\u001b[39;00m\n\u001b[1;32m     15\u001b[0m \u001b[38;5;28;01mfrom\u001b[39;00m \u001b[38;5;21;01mmongoengine\u001b[39;00m\u001b[38;5;21;01m.\u001b[39;00m\u001b[38;5;21;01mconnection\u001b[39;00m \u001b[38;5;28;01mimport\u001b[39;00m \u001b[38;5;241m*\u001b[39m  \u001b[38;5;66;03m# noqa: F401\u001b[39;00m\n",
      "File \u001b[0;32m~/miniconda3/envs/general/lib/python3.8/site-packages/mongoengine/connection.py:3\u001b[0m\n\u001b[1;32m      1\u001b[0m \u001b[38;5;28;01mimport\u001b[39;00m \u001b[38;5;21;01mwarnings\u001b[39;00m\n\u001b[0;32m----> 3\u001b[0m \u001b[38;5;28;01mfrom\u001b[39;00m \u001b[38;5;21;01mpymongo\u001b[39;00m \u001b[38;5;28;01mimport\u001b[39;00m MongoClient, ReadPreference, uri_parser\n\u001b[1;32m      4\u001b[0m \u001b[38;5;28;01mfrom\u001b[39;00m \u001b[38;5;21;01mpymongo\u001b[39;00m\u001b[38;5;21;01m.\u001b[39;00m\u001b[38;5;21;01mdatabase\u001b[39;00m \u001b[38;5;28;01mimport\u001b[39;00m _check_name\n\u001b[1;32m      6\u001b[0m \u001b[38;5;28;01mfrom\u001b[39;00m \u001b[38;5;21;01mmongoengine\u001b[39;00m\u001b[38;5;21;01m.\u001b[39;00m\u001b[38;5;21;01mpymongo_support\u001b[39;00m \u001b[38;5;28;01mimport\u001b[39;00m PYMONGO_VERSION\n",
      "File \u001b[0;32m~/miniconda3/envs/general/lib/python3.8/site-packages/pymongo/__init__.py:92\u001b[0m\n\u001b[1;32m     90\u001b[0m \u001b[38;5;28;01mfrom\u001b[39;00m \u001b[38;5;21;01mpymongo\u001b[39;00m\u001b[38;5;21;01m.\u001b[39;00m\u001b[38;5;21;01mcommon\u001b[39;00m \u001b[38;5;28;01mimport\u001b[39;00m MAX_SUPPORTED_WIRE_VERSION, MIN_SUPPORTED_WIRE_VERSION\n\u001b[1;32m     91\u001b[0m \u001b[38;5;28;01mfrom\u001b[39;00m \u001b[38;5;21;01mpymongo\u001b[39;00m\u001b[38;5;21;01m.\u001b[39;00m\u001b[38;5;21;01mcursor\u001b[39;00m \u001b[38;5;28;01mimport\u001b[39;00m CursorType\n\u001b[0;32m---> 92\u001b[0m \u001b[38;5;28;01mfrom\u001b[39;00m \u001b[38;5;21;01mpymongo\u001b[39;00m\u001b[38;5;21;01m.\u001b[39;00m\u001b[38;5;21;01mmongo_client\u001b[39;00m \u001b[38;5;28;01mimport\u001b[39;00m MongoClient\n\u001b[1;32m     93\u001b[0m \u001b[38;5;28;01mfrom\u001b[39;00m \u001b[38;5;21;01mpymongo\u001b[39;00m\u001b[38;5;21;01m.\u001b[39;00m\u001b[38;5;21;01moperations\u001b[39;00m \u001b[38;5;28;01mimport\u001b[39;00m (\n\u001b[1;32m     94\u001b[0m     DeleteMany,\n\u001b[1;32m     95\u001b[0m     DeleteOne,\n\u001b[0;32m   (...)\u001b[0m\n\u001b[1;32m    100\u001b[0m     UpdateOne,\n\u001b[1;32m    101\u001b[0m )\n\u001b[1;32m    102\u001b[0m \u001b[38;5;28;01mfrom\u001b[39;00m \u001b[38;5;21;01mpymongo\u001b[39;00m\u001b[38;5;21;01m.\u001b[39;00m\u001b[38;5;21;01mread_preferences\u001b[39;00m \u001b[38;5;28;01mimport\u001b[39;00m ReadPreference\n",
      "File \u001b[0;32m~/miniconda3/envs/general/lib/python3.8/site-packages/pymongo/mongo_client.py:61\u001b[0m\n\u001b[1;32m     59\u001b[0m \u001b[38;5;28;01mfrom\u001b[39;00m \u001b[38;5;21;01mbson\u001b[39;00m\u001b[38;5;21;01m.\u001b[39;00m\u001b[38;5;21;01mson\u001b[39;00m \u001b[38;5;28;01mimport\u001b[39;00m SON\n\u001b[1;32m     60\u001b[0m \u001b[38;5;28;01mfrom\u001b[39;00m \u001b[38;5;21;01mbson\u001b[39;00m\u001b[38;5;21;01m.\u001b[39;00m\u001b[38;5;21;01mtimestamp\u001b[39;00m \u001b[38;5;28;01mimport\u001b[39;00m Timestamp\n\u001b[0;32m---> 61\u001b[0m \u001b[38;5;28;01mfrom\u001b[39;00m \u001b[38;5;21;01mpymongo\u001b[39;00m \u001b[38;5;28;01mimport\u001b[39;00m (\n\u001b[1;32m     62\u001b[0m     _csot,\n\u001b[1;32m     63\u001b[0m     client_session,\n\u001b[1;32m     64\u001b[0m     common,\n\u001b[1;32m     65\u001b[0m     database,\n\u001b[1;32m     66\u001b[0m     helpers,\n\u001b[1;32m     67\u001b[0m     message,\n\u001b[1;32m     68\u001b[0m     periodic_executor,\n\u001b[1;32m     69\u001b[0m     uri_parser,\n\u001b[1;32m     70\u001b[0m )\n\u001b[1;32m     71\u001b[0m \u001b[38;5;28;01mfrom\u001b[39;00m \u001b[38;5;21;01mpymongo\u001b[39;00m\u001b[38;5;21;01m.\u001b[39;00m\u001b[38;5;21;01mchange_stream\u001b[39;00m \u001b[38;5;28;01mimport\u001b[39;00m ChangeStream, ClusterChangeStream\n\u001b[1;32m     72\u001b[0m \u001b[38;5;28;01mfrom\u001b[39;00m \u001b[38;5;21;01mpymongo\u001b[39;00m\u001b[38;5;21;01m.\u001b[39;00m\u001b[38;5;21;01mclient_options\u001b[39;00m \u001b[38;5;28;01mimport\u001b[39;00m ClientOptions\n",
      "File \u001b[0;32m~/miniconda3/envs/general/lib/python3.8/site-packages/pymongo/uri_parser.py:32\u001b[0m\n\u001b[1;32m     24\u001b[0m \u001b[38;5;28;01mfrom\u001b[39;00m \u001b[38;5;21;01mpymongo\u001b[39;00m\u001b[38;5;21;01m.\u001b[39;00m\u001b[38;5;21;01mcommon\u001b[39;00m \u001b[38;5;28;01mimport\u001b[39;00m (\n\u001b[1;32m     25\u001b[0m     INTERNAL_URI_OPTION_NAME_MAP,\n\u001b[1;32m     26\u001b[0m     SRV_SERVICE_NAME,\n\u001b[0;32m   (...)\u001b[0m\n\u001b[1;32m     29\u001b[0m     get_validated_options,\n\u001b[1;32m     30\u001b[0m )\n\u001b[1;32m     31\u001b[0m \u001b[38;5;28;01mfrom\u001b[39;00m \u001b[38;5;21;01mpymongo\u001b[39;00m\u001b[38;5;21;01m.\u001b[39;00m\u001b[38;5;21;01merrors\u001b[39;00m \u001b[38;5;28;01mimport\u001b[39;00m ConfigurationError, InvalidURI\n\u001b[0;32m---> 32\u001b[0m \u001b[38;5;28;01mfrom\u001b[39;00m \u001b[38;5;21;01mpymongo\u001b[39;00m\u001b[38;5;21;01m.\u001b[39;00m\u001b[38;5;21;01msrv_resolver\u001b[39;00m \u001b[38;5;28;01mimport\u001b[39;00m _HAVE_DNSPYTHON, _SrvResolver\n\u001b[1;32m     33\u001b[0m \u001b[38;5;28;01mfrom\u001b[39;00m \u001b[38;5;21;01mpymongo\u001b[39;00m\u001b[38;5;21;01m.\u001b[39;00m\u001b[38;5;21;01mtypings\u001b[39;00m \u001b[38;5;28;01mimport\u001b[39;00m _Address\n\u001b[1;32m     35\u001b[0m SCHEME \u001b[38;5;241m=\u001b[39m \u001b[38;5;124m\"\u001b[39m\u001b[38;5;124mmongodb://\u001b[39m\u001b[38;5;124m\"\u001b[39m\n",
      "File \u001b[0;32m~/miniconda3/envs/general/lib/python3.8/site-packages/pymongo/srv_resolver.py:21\u001b[0m\n\u001b[1;32m     18\u001b[0m \u001b[38;5;28;01mimport\u001b[39;00m \u001b[38;5;21;01mrandom\u001b[39;00m\n\u001b[1;32m     20\u001b[0m \u001b[38;5;28;01mtry\u001b[39;00m:\n\u001b[0;32m---> 21\u001b[0m     \u001b[38;5;28;01mfrom\u001b[39;00m \u001b[38;5;21;01mdns\u001b[39;00m \u001b[38;5;28;01mimport\u001b[39;00m resolver\n\u001b[1;32m     23\u001b[0m     _HAVE_DNSPYTHON \u001b[38;5;241m=\u001b[39m \u001b[38;5;28;01mTrue\u001b[39;00m\n\u001b[1;32m     24\u001b[0m \u001b[38;5;28;01mexcept\u001b[39;00m \u001b[38;5;167;01mImportError\u001b[39;00m:\n",
      "File \u001b[0;32m~/miniconda3/envs/general/lib/python3.8/site-packages/dns/resolver.py:30\u001b[0m\n\u001b[1;32m     27\u001b[0m \u001b[38;5;28;01mfrom\u001b[39;00m \u001b[38;5;21;01mtyping\u001b[39;00m \u001b[38;5;28;01mimport\u001b[39;00m Any, Dict, Iterator, List, Optional, Sequence, Tuple, Union\n\u001b[1;32m     28\u001b[0m \u001b[38;5;28;01mfrom\u001b[39;00m \u001b[38;5;21;01murllib\u001b[39;00m\u001b[38;5;21;01m.\u001b[39;00m\u001b[38;5;21;01mparse\u001b[39;00m \u001b[38;5;28;01mimport\u001b[39;00m urlparse\n\u001b[0;32m---> 30\u001b[0m \u001b[38;5;28;01mimport\u001b[39;00m \u001b[38;5;21;01mdns\u001b[39;00m\u001b[38;5;21;01m.\u001b[39;00m\u001b[38;5;21;01m_ddr\u001b[39;00m\n\u001b[1;32m     31\u001b[0m \u001b[38;5;28;01mimport\u001b[39;00m \u001b[38;5;21;01mdns\u001b[39;00m\u001b[38;5;21;01m.\u001b[39;00m\u001b[38;5;21;01medns\u001b[39;00m\n\u001b[1;32m     32\u001b[0m \u001b[38;5;28;01mimport\u001b[39;00m \u001b[38;5;21;01mdns\u001b[39;00m\u001b[38;5;21;01m.\u001b[39;00m\u001b[38;5;21;01mexception\u001b[39;00m\n",
      "File \u001b[0;32m~/miniconda3/envs/general/lib/python3.8/site-packages/dns/_ddr.py:12\u001b[0m\n\u001b[1;32m     10\u001b[0m \u001b[38;5;28;01mimport\u001b[39;00m \u001b[38;5;21;01mdns\u001b[39;00m\u001b[38;5;21;01m.\u001b[39;00m\u001b[38;5;21;01minet\u001b[39;00m\n\u001b[1;32m     11\u001b[0m \u001b[38;5;28;01mimport\u001b[39;00m \u001b[38;5;21;01mdns\u001b[39;00m\u001b[38;5;21;01m.\u001b[39;00m\u001b[38;5;21;01mname\u001b[39;00m\n\u001b[0;32m---> 12\u001b[0m \u001b[38;5;28;01mimport\u001b[39;00m \u001b[38;5;21;01mdns\u001b[39;00m\u001b[38;5;21;01m.\u001b[39;00m\u001b[38;5;21;01mnameserver\u001b[39;00m\n\u001b[1;32m     13\u001b[0m \u001b[38;5;28;01mimport\u001b[39;00m \u001b[38;5;21;01mdns\u001b[39;00m\u001b[38;5;21;01m.\u001b[39;00m\u001b[38;5;21;01mquery\u001b[39;00m\n\u001b[1;32m     14\u001b[0m \u001b[38;5;28;01mimport\u001b[39;00m \u001b[38;5;21;01mdns\u001b[39;00m\u001b[38;5;21;01m.\u001b[39;00m\u001b[38;5;21;01mrdtypes\u001b[39;00m\u001b[38;5;21;01m.\u001b[39;00m\u001b[38;5;21;01msvcbbase\u001b[39;00m\n",
      "File \u001b[0;32m~/miniconda3/envs/general/lib/python3.8/site-packages/dns/nameserver.py:5\u001b[0m\n\u001b[1;32m      2\u001b[0m \u001b[38;5;28;01mfrom\u001b[39;00m \u001b[38;5;21;01murllib\u001b[39;00m\u001b[38;5;21;01m.\u001b[39;00m\u001b[38;5;21;01mparse\u001b[39;00m \u001b[38;5;28;01mimport\u001b[39;00m urlparse\n\u001b[1;32m      4\u001b[0m \u001b[38;5;28;01mimport\u001b[39;00m \u001b[38;5;21;01mdns\u001b[39;00m\u001b[38;5;21;01m.\u001b[39;00m\u001b[38;5;21;01masyncbackend\u001b[39;00m\n\u001b[0;32m----> 5\u001b[0m \u001b[38;5;28;01mimport\u001b[39;00m \u001b[38;5;21;01mdns\u001b[39;00m\u001b[38;5;21;01m.\u001b[39;00m\u001b[38;5;21;01masyncquery\u001b[39;00m\n\u001b[1;32m      6\u001b[0m \u001b[38;5;28;01mimport\u001b[39;00m \u001b[38;5;21;01mdns\u001b[39;00m\u001b[38;5;21;01m.\u001b[39;00m\u001b[38;5;21;01minet\u001b[39;00m\n\u001b[1;32m      7\u001b[0m \u001b[38;5;28;01mimport\u001b[39;00m \u001b[38;5;21;01mdns\u001b[39;00m\u001b[38;5;21;01m.\u001b[39;00m\u001b[38;5;21;01mmessage\u001b[39;00m\n",
      "File \u001b[0;32m~/miniconda3/envs/general/lib/python3.8/site-packages/dns/asyncquery.py:38\u001b[0m\n\u001b[1;32m     36\u001b[0m \u001b[38;5;28;01mimport\u001b[39;00m \u001b[38;5;21;01mdns\u001b[39;00m\u001b[38;5;21;01m.\u001b[39;00m\u001b[38;5;21;01mtransaction\u001b[39;00m\n\u001b[1;32m     37\u001b[0m \u001b[38;5;28;01mfrom\u001b[39;00m \u001b[38;5;21;01mdns\u001b[39;00m\u001b[38;5;21;01m.\u001b[39;00m\u001b[38;5;21;01m_asyncbackend\u001b[39;00m \u001b[38;5;28;01mimport\u001b[39;00m NullContext\n\u001b[0;32m---> 38\u001b[0m \u001b[38;5;28;01mfrom\u001b[39;00m \u001b[38;5;21;01mdns\u001b[39;00m\u001b[38;5;21;01m.\u001b[39;00m\u001b[38;5;21;01mquery\u001b[39;00m \u001b[38;5;28;01mimport\u001b[39;00m (\n\u001b[1;32m     39\u001b[0m     BadResponse,\n\u001b[1;32m     40\u001b[0m     NoDOH,\n\u001b[1;32m     41\u001b[0m     NoDOQ,\n\u001b[1;32m     42\u001b[0m     UDPMode,\n\u001b[1;32m     43\u001b[0m     _compute_times,\n\u001b[1;32m     44\u001b[0m     _have_http2,\n\u001b[1;32m     45\u001b[0m     _matches_destination,\n\u001b[1;32m     46\u001b[0m     _remaining,\n\u001b[1;32m     47\u001b[0m     have_doh,\n\u001b[1;32m     48\u001b[0m     ssl,\n\u001b[1;32m     49\u001b[0m )\n\u001b[1;32m     51\u001b[0m \u001b[38;5;28;01mif\u001b[39;00m have_doh:\n\u001b[1;32m     52\u001b[0m     \u001b[38;5;28;01mimport\u001b[39;00m \u001b[38;5;21;01mhttpx\u001b[39;00m\n",
      "File \u001b[0;32m~/miniconda3/envs/general/lib/python3.8/site-packages/dns/query.py:67\u001b[0m\n\u001b[1;32m     64\u001b[0m \u001b[38;5;28;01mimport\u001b[39;00m \u001b[38;5;21;01mhttpcore\u001b[39;00m\u001b[38;5;21;01m.\u001b[39;00m\u001b[38;5;21;01m_backends\u001b[39;00m\u001b[38;5;21;01m.\u001b[39;00m\u001b[38;5;21;01msync\u001b[39;00m\n\u001b[1;32m     65\u001b[0m \u001b[38;5;28;01mimport\u001b[39;00m \u001b[38;5;21;01mhttpx\u001b[39;00m\n\u001b[0;32m---> 67\u001b[0m _CoreNetworkBackend \u001b[38;5;241m=\u001b[39m \u001b[43mhttpcore\u001b[49m\u001b[38;5;241;43m.\u001b[39;49m\u001b[43mNetworkBackend\u001b[49m\n\u001b[1;32m     68\u001b[0m _CoreSyncStream \u001b[38;5;241m=\u001b[39m httpcore\u001b[38;5;241m.\u001b[39m_backends\u001b[38;5;241m.\u001b[39msync\u001b[38;5;241m.\u001b[39mSyncStream\n\u001b[1;32m     70\u001b[0m _have_httpx \u001b[38;5;241m=\u001b[39m \u001b[38;5;28;01mTrue\u001b[39;00m\n",
      "\u001b[0;31mAttributeError\u001b[0m: module 'httpcore' has no attribute 'NetworkBackend'"
     ]
    }
   ],
   "source": [
    "import fiftyone as fo\n",
    "import fiftyone.brain as fob\n",
    "import numpy as np\n",
    "from glob import glob\n",
    "import json\n",
    "import os\n",
    "\n"
   ]
  },
  {
   "cell_type": "markdown",
   "id": "36b7ba43",
   "metadata": {
    "id": "36b7ba43"
   },
   "source": [
    "Load dữ liệu keyframe từ thư mục chứa keyframe. Trong hướng dẫn này tất cả các file Keyframes_L*.zip được giải nén vào thư mục `D:\\AIC\\Keyframes`. Mỗi ảnh và thông tin đi kèm sau này sẽ được lưu trữ trong một `Sample`. Tất cả các `Sample` được lưu trong `Dataset`."
   ]
  },
  {
   "cell_type": "code",
   "execution_count": null,
   "id": "9e072688",
   "metadata": {
    "id": "9e072688"
   },
   "outputs": [],
   "source": [
    "dataset = fo.Dataset.from_images_dir('D:\\\\AIC\\\\KeyFrames', name=None, tags=None, recursive=True)"
   ]
  },
  {
   "cell_type": "markdown",
   "id": "9b89e71c",
   "metadata": {
    "id": "9b89e71c"
   },
   "source": [
    "Sau khi dữ liệu đã load lên xong. Bạn có thể truy cập vào đường vào ứng dụng web của fiftyone từ [http://localhost:5151](http://localhost:5151)"
   ]
  },
  {
   "cell_type": "code",
   "execution_count": null,
   "id": "58be11b8",
   "metadata": {
    "id": "58be11b8"
   },
   "outputs": [],
   "source": [
    "session = fo.launch_app(dataset, auto=False)"
   ]
  },
  {
   "cell_type": "markdown",
   "id": "078ce744",
   "metadata": {
    "id": "078ce744"
   },
   "source": [
    "Hoặc bạn có thể chạy cell bên dưới để mở tab mới cho ứng dụng web fiftyone"
   ]
  },
  {
   "cell_type": "code",
   "execution_count": null,
   "id": "bce0d9ce",
   "metadata": {
    "id": "bce0d9ce"
   },
   "outputs": [],
   "source": [
    "session.open_tab()"
   ]
  },
  {
   "cell_type": "markdown",
   "id": "28298924",
   "metadata": {
    "id": "28298924"
   },
   "source": [
    "### Trích xuất thêm thông tin tên của video và frameid\n",
    "Thông tin `video` và `frameid` sẽ được lấy từ tên của tập tin keyframe."
   ]
  },
  {
   "cell_type": "code",
   "execution_count": null,
   "id": "a8ee02ad",
   "metadata": {
    "id": "a8ee02ad"
   },
   "outputs": [],
   "source": [
    "for sample in dataset:\n",
    "    _, sample['video'], sample['frameid'] = sample['filepath'][:-4].rsplit('\\\\', 2)\n",
    "    sample.save()"
   ]
  },
  {
   "cell_type": "markdown",
   "id": "11d66008",
   "metadata": {
    "id": "11d66008"
   },
   "source": [
    "Bạn có thể xem `Sample` đầu tiên của `Dataset` bằng lệnh sau:"
   ]
  },
  {
   "cell_type": "code",
   "execution_count": null,
   "id": "6997ef1c",
   "metadata": {
    "id": "6997ef1c"
   },
   "outputs": [],
   "source": [
    "print(dataset.first())"
   ]
  },
  {
   "cell_type": "markdown",
   "id": "4309a34f",
   "metadata": {
    "id": "4309a34f"
   },
   "source": [
    "### Thêm thông tin kết quả của object detection.\n",
    "\n",
    "Bước này có thể tốn của bạn nhiều thời gian để đọc hết tất cả các dữ liệu về object detection. Bạn có thể bỏ qua cell này và chạy cell này sau nếu muốn thử thêm các thông tin về vector CLIP embedding trước."
   ]
  },
  {
   "cell_type": "code",
   "execution_count": null,
   "id": "ad1c4395",
   "metadata": {
    "id": "ad1c4395"
   },
   "outputs": [],
   "source": [
    "for sample in dataset:\n",
    "    object_path = f\"D:\\\\AIC\\\\objects\\\\{sample['video']}\\\\{sample['frameid']}.json\"\n",
    "    with open(object_path) as jsonfile:\n",
    "        det_data = json.load(jsonfile)\n",
    "    detections = []\n",
    "    for cls, box, score in zip(det_data['detection_class_entities'], det_data['detection_boxes'], det_data['detection_scores']):\n",
    "        # Convert to [top-left-x, top-left-y, width, height]\n",
    "        boxf = [float(box[1]), float(box[0]), float(box[3]) - float(box[1]), float(box[2]) - float(box[0])]\n",
    "        scoref = float(score)\n",
    "\n",
    "        # Only add objects with confidence > 0.4\n",
    "        if scoref > 0.4:\n",
    "            detections.append(\n",
    "                fo.Detection(\n",
    "                    label=cls,\n",
    "                    bounding_box= boxf,\n",
    "                    confidence=float(score)\n",
    "                )\n",
    "            )\n",
    "    sample[\"object_faster_rcnn\"] = fo.Detections(detections=detections)\n",
    "    sample.save()\n"
   ]
  },
  {
   "cell_type": "markdown",
   "id": "e287dbb4",
   "metadata": {
    "id": "e287dbb4"
   },
   "source": [
    "### Thêm thông tin CLIP embedding."
   ]
  },
  {
   "cell_type": "code",
   "execution_count": null,
   "id": "58d5d9ca",
   "metadata": {
    "id": "58d5d9ca"
   },
   "outputs": [],
   "source": [
    "all_keyframe = glob('D:\\\\AIC\\\\Keyframes\\\\*\\\\keyframes\\\\*\\\\*.jpg')\n",
    "video_keyframe_dict = {}\n",
    "all_video = glob('D:\\\\AIC\\\\Keyframes\\\\*\\\\keyframes\\\\*')\n",
    "all_video = [v.rsplit('\\\\',1)[-1] for v in all_video]"
   ]
  },
  {
   "cell_type": "markdown",
   "id": "53460b70",
   "metadata": {
    "id": "53460b70"
   },
   "source": [
    "Đọc thông tin clip embedding được cung cấp.\n",
    "\n",
    "Lưu ý: Các bạn cần tải đúng bản CLIP embedding từ model **CLIP ViT-B/32**"
   ]
  },
  {
   "cell_type": "markdown",
   "id": "cb927629",
   "metadata": {
    "id": "cb927629"
   },
   "source": [
    "Tạo dictionary `video_keyframe_dict` với `video_keyframe_dict[video]` thông tin danh sách `keyframe` của `video`"
   ]
  },
  {
   "cell_type": "code",
   "execution_count": null,
   "id": "f33da133",
   "metadata": {
    "id": "f33da133"
   },
   "outputs": [],
   "source": [
    "for kf in all_keyframe:\n",
    "    _, vid, kf = kf[:-4].rsplit('\\\\',2)\n",
    "    if vid not in video_keyframe_dict.keys():\n",
    "        video_keyframe_dict[vid] = [kf]\n",
    "    else:\n",
    "        video_keyframe_dict[vid].append(kf)"
   ]
  },
  {
   "cell_type": "markdown",
   "id": "faefe0bf",
   "metadata": {
    "id": "faefe0bf"
   },
   "source": [
    "Do thông tin vector CLIP embedding được cung cấp được lưu theo từng video nhầm mục đích tối ưu thời gian đọc dữ liệu. Cần sort lại danh sách `keyframe` của từng `video` để đảm bảo thứ tự đọc đúng với vector embedding được cung cấp."
   ]
  },
  {
   "cell_type": "code",
   "execution_count": null,
   "id": "4b0fad7a",
   "metadata": {
    "id": "4b0fad7a"
   },
   "outputs": [],
   "source": [
    "for k,v in video_keyframe_dict.items():\n",
    "    video_keyframe_dict[k] = sorted(v)"
   ]
  },
  {
   "cell_type": "markdown",
   "id": "9d99d121",
   "metadata": {
    "id": "9d99d121"
   },
   "source": [
    "Tạo dictionary `embedding_dict` với `embedding_dict[video][keyframe]` lưu thông tin vector CLIP embedding của `keyframe` trong `video` tương ứng"
   ]
  },
  {
   "cell_type": "code",
   "execution_count": null,
   "id": "a5d94d7b",
   "metadata": {
    "id": "a5d94d7b"
   },
   "outputs": [],
   "source": [
    "embedding_dict = {}\n",
    "for v in all_video:\n",
    "    clip_path = f'D:\\\\AIC\\\\clip-features-vit-b32\\\\{v}.npy'\n",
    "    a = np.load(clip_path)\n",
    "    embedding_dict[v] = {}\n",
    "    for i,k in enumerate(video_keyframe_dict[v]):\n",
    "        embedding_dict[v][k] = a[i]\n"
   ]
  },
  {
   "cell_type": "markdown",
   "id": "5ea0432e",
   "metadata": {
    "id": "5ea0432e"
   },
   "source": [
    "Tạo danh sách `clip_embedding` ứng với danh sách `sample` trong `dataset`."
   ]
  },
  {
   "cell_type": "code",
   "execution_count": null,
   "id": "1ad16b5c",
   "metadata": {
    "id": "1ad16b5c"
   },
   "outputs": [],
   "source": [
    "clip_embeddings = []\n",
    "for sample in dataset:\n",
    "    clip_embedding = embedding_dict[sample['video']][sample['frameid']]\n",
    "    clip_embeddings.append(clip_embedding)\n"
   ]
  },
  {
   "cell_type": "code",
   "execution_count": null,
   "id": "655d2feb",
   "metadata": {
    "id": "655d2feb"
   },
   "outputs": [],
   "source": [
    "fob.compute_similarity(\n",
    "    dataset,\n",
    "    model=\"clip-vit-base32-torch\",      # store model's name for future use\n",
    "    embeddings=clip_embeddings,          # precomputed image embeddings\n",
    "    brain_key=\"img_sim\",\n",
    ")"
   ]
  },
  {
   "cell_type": "markdown",
   "id": "99223338",
   "metadata": {
    "id": "99223338"
   },
   "source": [
    "## Từ đây các bạn có thể thử các tính năng search, filter trên ứng dụng fiftyone."
   ]
  },
  {
   "cell_type": "code",
   "execution_count": null,
   "id": "46605386",
   "metadata": {
    "id": "46605386"
   },
   "outputs": [],
   "source": [
    "# Bạn cần phải cài version umap-learn hỗ trợ.\n",
    "# fob.compute_visualization(\n",
    "#     dataset,\n",
    "#     embeddings=clip_embeddings,\n",
    "#     brain_key=\"img_viz\"\n",
    "# )\n"
   ]
  },
  {
   "cell_type": "markdown",
   "id": "381972d8",
   "metadata": {
    "id": "381972d8"
   },
   "source": []
  }
 ],
 "metadata": {
  "colab": {
   "provenance": []
  },
  "kernelspec": {
   "display_name": "Python 3 (ipykernel)",
   "language": "python",
   "name": "python3"
  },
  "language_info": {
   "codemirror_mode": {
    "name": "ipython",
    "version": 3
   },
   "file_extension": ".py",
   "mimetype": "text/x-python",
   "name": "python",
   "nbconvert_exporter": "python",
   "pygments_lexer": "ipython3",
   "version": "3.8.0"
  }
 },
 "nbformat": 4,
 "nbformat_minor": 5
}
