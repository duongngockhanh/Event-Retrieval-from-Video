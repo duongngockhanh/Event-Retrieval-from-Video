{
 "cells": [
  {
   "cell_type": "code",
   "execution_count": 45,
   "id": "2814fe62",
   "metadata": {},
   "outputs": [],
   "source": [
    "import cv2\n",
    "import os\n",
    "from os import listdir\n",
    "from os.path import isfile, join"
   ]
  },
  {
   "cell_type": "code",
   "execution_count": 46,
   "id": "57fd0889",
   "metadata": {},
   "outputs": [],
   "source": [
    "source_folder = './images'\n",
    "onlyfiles = [f for f in listdir(source_folder) if isfile(join(source_folder, f))]\n",
    "imgs = np.empty(len(onlyfiles), dtype=object)\n",
    "\n",
    "#print(onlyfiles)"
   ]
  },
  {
   "cell_type": "code",
   "execution_count": 47,
   "id": "a5294873",
   "metadata": {},
   "outputs": [],
   "source": [
    "for n in range(0, len(onlyfiles)):\n",
    "    path = join(source_folder, onlyfiles[n])\n",
    "    imgs[n] = cv2.imread(join(source_folder, onlyfiles[n]),cv2.IMREAD_UNCHANGED)\n",
    "    img = cv2.imread(path, 1)\n",
    "    \n",
    "    filename = onlyfiles[n].rsplit('.', 1)[0]\n",
    "    \n",
    "    scale = 60\n",
    "    width = int(img.shape[1] * scale/100)\n",
    "    height = int(img.shape[0] * scale/100)\n",
    "    dim=(width, height)\n",
    "    resized_down = cv2.resize(img, dim, interpolation= cv2.INTER_AREA)\n",
    "    \n",
    "    cv2.imwrite('./resized_images/' + str(filename) + '_resized.jpg', resized_down)"
   ]
  },
  {
   "cell_type": "code",
   "execution_count": null,
   "id": "2c1278ab",
   "metadata": {},
   "outputs": [],
   "source": []
  }
 ],
 "metadata": {
  "kernelspec": {
   "display_name": "Python 3 (ipykernel)",
   "language": "python",
   "name": "python3"
  },
  "language_info": {
   "codemirror_mode": {
    "name": "ipython",
    "version": 3
   },
   "file_extension": ".py",
   "mimetype": "text/x-python",
   "name": "python",
   "nbconvert_exporter": "python",
   "pygments_lexer": "ipython3",
   "version": "3.10.9"
  }
 },
 "nbformat": 4,
 "nbformat_minor": 5
}
