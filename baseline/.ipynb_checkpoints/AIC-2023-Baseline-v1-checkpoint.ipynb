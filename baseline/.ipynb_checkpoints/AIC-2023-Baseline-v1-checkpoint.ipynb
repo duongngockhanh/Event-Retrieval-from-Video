{
 "cells": [
  {
   "cell_type": "markdown",
   "id": "5fcc581b",
   "metadata": {
    "id": "5fcc581b"
   },
   "source": [
    "# Hướng dẫn truy vấn dữ liệu thị giác dùng fiftyone\n",
    "\n",
    "Đây là hướng dẫn dùng cho các đội tham dự AI Challenge 2023. Hướng dẫn này nhằm mục đích giới thiệu cho các đội một phương pháp cơ bản để truy vấn dữ liệu dựa trên thông tin BTC cung cấp và giới thiệu công cụ fiftyone để hỗ trợ đội thi đánh giá kết quả.\n",
    "\n",
    "## Cài đặt ban đầu\n",
    "\n",
    "Bạn cần cài đặt môi trường để chạy được notebook này trên máy tính cá nhân của bạn. Hướng dẫn này không bao gồm phần cài đặt môi trường. Khuyến nghị: các bạn có thể cài đặt [Anaconda](https://docs.anaconda.com/free/anaconda/install/windows/).\n",
    "\n",
    "## Cài đặt các thư viện FiftyOne và PyTorch\n",
    "Hướng dẫn này dùng fiftyone là công cụ để trực quan dữ liệu và pytorch là backend chính cho các thuật toán máy học.\n",
    "\n",
    "### Lưu ý: Đối với các bạn dùng Windows nên dùng bản fiftyone **v0.21.4**, không nên dùng bản mới nhất!"
   ]
  },
  {
   "cell_type": "code",
   "execution_count": 1,
   "id": "f5a576d0",
   "metadata": {
    "id": "f5a576d0"
   },
   "outputs": [
    {
     "name": "stdout",
     "output_type": "stream",
     "text": [
      "Requirement already satisfied: fiftyone==0.21.4 in /Users/khanhmac/miniconda3/envs/py38/lib/python3.8/site-packages (0.21.4)\n",
      "Requirement already satisfied: aiofiles in /Users/khanhmac/miniconda3/envs/py38/lib/python3.8/site-packages (from fiftyone==0.21.4) (23.2.1)\n",
      "Requirement already satisfied: argcomplete in /Users/khanhmac/miniconda3/envs/py38/lib/python3.8/site-packages (from fiftyone==0.21.4) (3.1.1)\n",
      "Requirement already satisfied: boto3 in /Users/khanhmac/miniconda3/envs/py38/lib/python3.8/site-packages (from fiftyone==0.21.4) (1.28.33)\n",
      "Requirement already satisfied: cachetools in /Users/khanhmac/miniconda3/envs/py38/lib/python3.8/site-packages (from fiftyone==0.21.4) (5.3.1)\n",
      "Requirement already satisfied: dacite<1.8.0,>=1.6.0 in /Users/khanhmac/miniconda3/envs/py38/lib/python3.8/site-packages (from fiftyone==0.21.4) (1.7.0)\n",
      "Requirement already satisfied: Deprecated in /Users/khanhmac/miniconda3/envs/py38/lib/python3.8/site-packages (from fiftyone==0.21.4) (1.2.14)\n",
      "Requirement already satisfied: eventlet in /Users/khanhmac/miniconda3/envs/py38/lib/python3.8/site-packages (from fiftyone==0.21.4) (0.33.3)\n",
      "Requirement already satisfied: ftfy in /Users/khanhmac/miniconda3/envs/py38/lib/python3.8/site-packages (from fiftyone==0.21.4) (6.1.1)\n",
      "Requirement already satisfied: future in /Users/khanhmac/miniconda3/envs/py38/lib/python3.8/site-packages (from fiftyone==0.21.4) (0.18.3)\n",
      "Requirement already satisfied: hypercorn>=0.13.2 in /Users/khanhmac/miniconda3/envs/py38/lib/python3.8/site-packages (from fiftyone==0.21.4) (0.14.4)\n",
      "Requirement already satisfied: Jinja2>=3 in /Users/khanhmac/miniconda3/envs/py38/lib/python3.8/site-packages (from fiftyone==0.21.4) (3.1.2)\n",
      "Requirement already satisfied: kaleido in /Users/khanhmac/miniconda3/envs/py38/lib/python3.8/site-packages (from fiftyone==0.21.4) (0.2.1)\n",
      "Requirement already satisfied: matplotlib in /Users/khanhmac/miniconda3/envs/py38/lib/python3.8/site-packages (from fiftyone==0.21.4) (3.7.2)\n",
      "Requirement already satisfied: mongoengine==0.24.2 in /Users/khanhmac/miniconda3/envs/py38/lib/python3.8/site-packages (from fiftyone==0.21.4) (0.24.2)\n",
      "Requirement already satisfied: motor>=2.5 in /Users/khanhmac/miniconda3/envs/py38/lib/python3.8/site-packages (from fiftyone==0.21.4) (3.2.0)\n",
      "Requirement already satisfied: numpy in /Users/khanhmac/miniconda3/envs/py38/lib/python3.8/site-packages (from fiftyone==0.21.4) (1.24.4)\n",
      "Requirement already satisfied: packaging in /Users/khanhmac/miniconda3/envs/py38/lib/python3.8/site-packages (from fiftyone==0.21.4) (23.1)\n",
      "Requirement already satisfied: pandas in /Users/khanhmac/miniconda3/envs/py38/lib/python3.8/site-packages (from fiftyone==0.21.4) (2.0.3)\n",
      "Requirement already satisfied: Pillow>=6.2 in /Users/khanhmac/miniconda3/envs/py38/lib/python3.8/site-packages (from fiftyone==0.21.4) (10.0.0)\n",
      "Requirement already satisfied: plotly>=4.14 in /Users/khanhmac/miniconda3/envs/py38/lib/python3.8/site-packages (from fiftyone==0.21.4) (5.16.1)\n",
      "Requirement already satisfied: pprintpp in /Users/khanhmac/miniconda3/envs/py38/lib/python3.8/site-packages (from fiftyone==0.21.4) (0.4.0)\n",
      "Requirement already satisfied: psutil in /Users/khanhmac/miniconda3/envs/py38/lib/python3.8/site-packages (from fiftyone==0.21.4) (5.9.5)\n",
      "Requirement already satisfied: pymongo>=3.12 in /Users/khanhmac/miniconda3/envs/py38/lib/python3.8/site-packages (from fiftyone==0.21.4) (4.5.0)\n",
      "Requirement already satisfied: pytz in /Users/khanhmac/miniconda3/envs/py38/lib/python3.8/site-packages (from fiftyone==0.21.4) (2023.3)\n",
      "Requirement already satisfied: PyYAML in /Users/khanhmac/miniconda3/envs/py38/lib/python3.8/site-packages (from fiftyone==0.21.4) (6.0.1)\n",
      "Requirement already satisfied: regex in /Users/khanhmac/miniconda3/envs/py38/lib/python3.8/site-packages (from fiftyone==0.21.4) (2023.8.8)\n",
      "Requirement already satisfied: retrying in /Users/khanhmac/miniconda3/envs/py38/lib/python3.8/site-packages (from fiftyone==0.21.4) (1.3.4)\n",
      "Requirement already satisfied: scikit-learn in /Users/khanhmac/miniconda3/envs/py38/lib/python3.8/site-packages (from fiftyone==0.21.4) (1.3.0)\n",
      "Requirement already satisfied: scikit-image in /Users/khanhmac/miniconda3/envs/py38/lib/python3.8/site-packages (from fiftyone==0.21.4) (0.21.0)\n",
      "Requirement already satisfied: setuptools in /Users/khanhmac/miniconda3/envs/py38/lib/python3.8/site-packages (from fiftyone==0.21.4) (68.0.0)\n",
      "Requirement already satisfied: sseclient-py<2,>=1.7.2 in /Users/khanhmac/miniconda3/envs/py38/lib/python3.8/site-packages (from fiftyone==0.21.4) (1.7.2)\n",
      "Requirement already satisfied: sse-starlette<1,>=0.10.3 in /Users/khanhmac/miniconda3/envs/py38/lib/python3.8/site-packages (from fiftyone==0.21.4) (0.10.3)\n",
      "Requirement already satisfied: starlette<0.27,>=0.24.0 in /Users/khanhmac/miniconda3/envs/py38/lib/python3.8/site-packages (from fiftyone==0.21.4) (0.26.1)\n",
      "Requirement already satisfied: strawberry-graphql==0.138.1 in /Users/khanhmac/miniconda3/envs/py38/lib/python3.8/site-packages (from fiftyone==0.21.4) (0.138.1)\n",
      "Requirement already satisfied: tabulate in /Users/khanhmac/miniconda3/envs/py38/lib/python3.8/site-packages (from fiftyone==0.21.4) (0.9.0)\n",
      "Requirement already satisfied: xmltodict in /Users/khanhmac/miniconda3/envs/py38/lib/python3.8/site-packages (from fiftyone==0.21.4) (0.13.0)\n",
      "Requirement already satisfied: universal-analytics-python3<2,>=1.0.1 in /Users/khanhmac/miniconda3/envs/py38/lib/python3.8/site-packages (from fiftyone==0.21.4) (1.1.1)\n",
      "Requirement already satisfied: fiftyone-brain<0.14,>=0.13 in /Users/khanhmac/miniconda3/envs/py38/lib/python3.8/site-packages (from fiftyone==0.21.4) (0.13.1)\n",
      "Requirement already satisfied: fiftyone-db<0.5,>=0.4 in /Users/khanhmac/miniconda3/envs/py38/lib/python3.8/site-packages (from fiftyone==0.21.4) (0.4.0)\n",
      "Requirement already satisfied: voxel51-eta<0.11,>=0.10 in /Users/khanhmac/miniconda3/envs/py38/lib/python3.8/site-packages (from fiftyone==0.21.4) (0.10.0)\n",
      "Requirement already satisfied: opencv-python-headless in /Users/khanhmac/miniconda3/envs/py38/lib/python3.8/site-packages (from fiftyone==0.21.4) (4.8.0.76)\n",
      "Requirement already satisfied: graphql-core<3.3.0,>=3.2.0 in /Users/khanhmac/miniconda3/envs/py38/lib/python3.8/site-packages (from strawberry-graphql==0.138.1->fiftyone==0.21.4) (3.2.3)\n",
      "Requirement already satisfied: python-dateutil<3.0.0,>=2.7.0 in /Users/khanhmac/miniconda3/envs/py38/lib/python3.8/site-packages (from strawberry-graphql==0.138.1->fiftyone==0.21.4) (2.8.2)\n",
      "Requirement already satisfied: typing_extensions<5.0.0,>=3.7.4 in /Users/khanhmac/miniconda3/envs/py38/lib/python3.8/site-packages (from strawberry-graphql==0.138.1->fiftyone==0.21.4) (4.7.1)\n",
      "Requirement already satisfied: scipy>=1.2.0 in /Users/khanhmac/miniconda3/envs/py38/lib/python3.8/site-packages (from fiftyone-brain<0.14,>=0.13->fiftyone==0.21.4) (1.10.1)\n",
      "Requirement already satisfied: h11 in /Users/khanhmac/miniconda3/envs/py38/lib/python3.8/site-packages (from hypercorn>=0.13.2->fiftyone==0.21.4) (0.14.0)\n",
      "Requirement already satisfied: h2>=3.1.0 in /Users/khanhmac/miniconda3/envs/py38/lib/python3.8/site-packages (from hypercorn>=0.13.2->fiftyone==0.21.4) (4.1.0)\n",
      "Requirement already satisfied: priority in /Users/khanhmac/miniconda3/envs/py38/lib/python3.8/site-packages (from hypercorn>=0.13.2->fiftyone==0.21.4) (2.0.0)\n",
      "Requirement already satisfied: tomli in /Users/khanhmac/miniconda3/envs/py38/lib/python3.8/site-packages (from hypercorn>=0.13.2->fiftyone==0.21.4) (2.0.1)\n",
      "Requirement already satisfied: wsproto>=0.14.0 in /Users/khanhmac/miniconda3/envs/py38/lib/python3.8/site-packages (from hypercorn>=0.13.2->fiftyone==0.21.4) (1.2.0)\n",
      "Requirement already satisfied: MarkupSafe>=2.0 in /Users/khanhmac/miniconda3/envs/py38/lib/python3.8/site-packages (from Jinja2>=3->fiftyone==0.21.4) (2.1.3)\n",
      "Requirement already satisfied: tenacity>=6.2.0 in /Users/khanhmac/miniconda3/envs/py38/lib/python3.8/site-packages (from plotly>=4.14->fiftyone==0.21.4) (8.2.3)\n",
      "Requirement already satisfied: dnspython<3.0.0,>=1.16.0 in /Users/khanhmac/miniconda3/envs/py38/lib/python3.8/site-packages (from pymongo>=3.12->fiftyone==0.21.4) (2.4.2)\n",
      "Requirement already satisfied: anyio<5,>=3.4.0 in /Users/khanhmac/miniconda3/envs/py38/lib/python3.8/site-packages (from starlette<0.27,>=0.24.0->fiftyone==0.21.4) (3.7.1)\n",
      "Requirement already satisfied: httpx>=0.10.0 in /Users/khanhmac/miniconda3/envs/py38/lib/python3.8/site-packages (from universal-analytics-python3<2,>=1.0.1->fiftyone==0.21.4) (0.24.1)\n",
      "Requirement already satisfied: dill in /Users/khanhmac/miniconda3/envs/py38/lib/python3.8/site-packages (from voxel51-eta<0.11,>=0.10->fiftyone==0.21.4) (0.3.7)\n",
      "Requirement already satisfied: glob2 in /Users/khanhmac/miniconda3/envs/py38/lib/python3.8/site-packages (from voxel51-eta<0.11,>=0.10->fiftyone==0.21.4) (0.7)\n",
      "Requirement already satisfied: jsonlines in /Users/khanhmac/miniconda3/envs/py38/lib/python3.8/site-packages (from voxel51-eta<0.11,>=0.10->fiftyone==0.21.4) (3.1.0)\n",
      "Requirement already satisfied: py7zr in /Users/khanhmac/miniconda3/envs/py38/lib/python3.8/site-packages (from voxel51-eta<0.11,>=0.10->fiftyone==0.21.4) (0.20.6)\n",
      "Requirement already satisfied: rarfile in /Users/khanhmac/miniconda3/envs/py38/lib/python3.8/site-packages (from voxel51-eta<0.11,>=0.10->fiftyone==0.21.4) (4.0)\n",
      "Requirement already satisfied: requests in /Users/khanhmac/miniconda3/envs/py38/lib/python3.8/site-packages (from voxel51-eta<0.11,>=0.10->fiftyone==0.21.4) (2.31.0)\n",
      "Requirement already satisfied: six in /Users/khanhmac/miniconda3/envs/py38/lib/python3.8/site-packages (from voxel51-eta<0.11,>=0.10->fiftyone==0.21.4) (1.16.0)\n",
      "Requirement already satisfied: sortedcontainers in /Users/khanhmac/miniconda3/envs/py38/lib/python3.8/site-packages (from voxel51-eta<0.11,>=0.10->fiftyone==0.21.4) (2.4.0)\n",
      "Requirement already satisfied: tzlocal in /Users/khanhmac/miniconda3/envs/py38/lib/python3.8/site-packages (from voxel51-eta<0.11,>=0.10->fiftyone==0.21.4) (5.0.1)\n",
      "Requirement already satisfied: urllib3 in /Users/khanhmac/miniconda3/envs/py38/lib/python3.8/site-packages (from voxel51-eta<0.11,>=0.10->fiftyone==0.21.4) (1.26.16)\n",
      "Requirement already satisfied: botocore<1.32.0,>=1.31.33 in /Users/khanhmac/miniconda3/envs/py38/lib/python3.8/site-packages (from boto3->fiftyone==0.21.4) (1.31.33)\n",
      "Requirement already satisfied: jmespath<2.0.0,>=0.7.1 in /Users/khanhmac/miniconda3/envs/py38/lib/python3.8/site-packages (from boto3->fiftyone==0.21.4) (1.0.1)\n",
      "Requirement already satisfied: s3transfer<0.7.0,>=0.6.0 in /Users/khanhmac/miniconda3/envs/py38/lib/python3.8/site-packages (from boto3->fiftyone==0.21.4) (0.6.2)\n",
      "Requirement already satisfied: wrapt<2,>=1.10 in /Users/khanhmac/miniconda3/envs/py38/lib/python3.8/site-packages (from Deprecated->fiftyone==0.21.4) (1.15.0)\n",
      "Requirement already satisfied: greenlet>=0.3 in /Users/khanhmac/miniconda3/envs/py38/lib/python3.8/site-packages (from eventlet->fiftyone==0.21.4) (2.0.2)\n",
      "Requirement already satisfied: wcwidth>=0.2.5 in /Users/khanhmac/miniconda3/envs/py38/lib/python3.8/site-packages (from ftfy->fiftyone==0.21.4) (0.2.6)\n",
      "Requirement already satisfied: contourpy>=1.0.1 in /Users/khanhmac/miniconda3/envs/py38/lib/python3.8/site-packages (from matplotlib->fiftyone==0.21.4) (1.1.0)\n",
      "Requirement already satisfied: cycler>=0.10 in /Users/khanhmac/miniconda3/envs/py38/lib/python3.8/site-packages (from matplotlib->fiftyone==0.21.4) (0.11.0)\n",
      "Requirement already satisfied: fonttools>=4.22.0 in /Users/khanhmac/miniconda3/envs/py38/lib/python3.8/site-packages (from matplotlib->fiftyone==0.21.4) (4.42.1)\n",
      "Requirement already satisfied: kiwisolver>=1.0.1 in /Users/khanhmac/miniconda3/envs/py38/lib/python3.8/site-packages (from matplotlib->fiftyone==0.21.4) (1.4.5)\n",
      "Requirement already satisfied: pyparsing<3.1,>=2.3.1 in /Users/khanhmac/miniconda3/envs/py38/lib/python3.8/site-packages (from matplotlib->fiftyone==0.21.4) (3.0.9)\n",
      "Requirement already satisfied: importlib-resources>=3.2.0 in /Users/khanhmac/miniconda3/envs/py38/lib/python3.8/site-packages (from matplotlib->fiftyone==0.21.4) (6.0.1)\n",
      "Requirement already satisfied: tzdata>=2022.1 in /Users/khanhmac/miniconda3/envs/py38/lib/python3.8/site-packages (from pandas->fiftyone==0.21.4) (2023.3)\n",
      "Requirement already satisfied: networkx>=2.8 in /Users/khanhmac/miniconda3/envs/py38/lib/python3.8/site-packages (from scikit-image->fiftyone==0.21.4) (3.1)\n",
      "Requirement already satisfied: imageio>=2.27 in /Users/khanhmac/miniconda3/envs/py38/lib/python3.8/site-packages (from scikit-image->fiftyone==0.21.4) (2.31.1)\n",
      "Requirement already satisfied: tifffile>=2022.8.12 in /Users/khanhmac/miniconda3/envs/py38/lib/python3.8/site-packages (from scikit-image->fiftyone==0.21.4) (2023.7.10)\n",
      "Requirement already satisfied: PyWavelets>=1.1.1 in /Users/khanhmac/miniconda3/envs/py38/lib/python3.8/site-packages (from scikit-image->fiftyone==0.21.4) (1.4.1)\n",
      "Requirement already satisfied: lazy_loader>=0.2 in /Users/khanhmac/miniconda3/envs/py38/lib/python3.8/site-packages (from scikit-image->fiftyone==0.21.4) (0.3)\n",
      "Requirement already satisfied: joblib>=1.1.1 in /Users/khanhmac/miniconda3/envs/py38/lib/python3.8/site-packages (from scikit-learn->fiftyone==0.21.4) (1.3.2)\n",
      "Requirement already satisfied: threadpoolctl>=2.0.0 in /Users/khanhmac/miniconda3/envs/py38/lib/python3.8/site-packages (from scikit-learn->fiftyone==0.21.4) (3.2.0)\n",
      "Requirement already satisfied: idna>=2.8 in /Users/khanhmac/miniconda3/envs/py38/lib/python3.8/site-packages (from anyio<5,>=3.4.0->starlette<0.27,>=0.24.0->fiftyone==0.21.4) (3.4)\n",
      "Requirement already satisfied: sniffio>=1.1 in /Users/khanhmac/miniconda3/envs/py38/lib/python3.8/site-packages (from anyio<5,>=3.4.0->starlette<0.27,>=0.24.0->fiftyone==0.21.4) (1.3.0)\n",
      "Requirement already satisfied: exceptiongroup in /Users/khanhmac/miniconda3/envs/py38/lib/python3.8/site-packages (from anyio<5,>=3.4.0->starlette<0.27,>=0.24.0->fiftyone==0.21.4) (1.1.3)\n",
      "Requirement already satisfied: hyperframe<7,>=6.0 in /Users/khanhmac/miniconda3/envs/py38/lib/python3.8/site-packages (from h2>=3.1.0->hypercorn>=0.13.2->fiftyone==0.21.4) (6.0.1)\n",
      "Requirement already satisfied: hpack<5,>=4.0 in /Users/khanhmac/miniconda3/envs/py38/lib/python3.8/site-packages (from h2>=3.1.0->hypercorn>=0.13.2->fiftyone==0.21.4) (4.0.0)\n",
      "Requirement already satisfied: certifi in /Users/khanhmac/miniconda3/envs/py38/lib/python3.8/site-packages (from httpx>=0.10.0->universal-analytics-python3<2,>=1.0.1->fiftyone==0.21.4) (2023.7.22)\n",
      "Requirement already satisfied: httpcore<0.18.0,>=0.15.0 in /Users/khanhmac/miniconda3/envs/py38/lib/python3.8/site-packages (from httpx>=0.10.0->universal-analytics-python3<2,>=1.0.1->fiftyone==0.21.4) (0.17.3)\n",
      "Requirement already satisfied: zipp>=3.1.0 in /Users/khanhmac/miniconda3/envs/py38/lib/python3.8/site-packages (from importlib-resources>=3.2.0->matplotlib->fiftyone==0.21.4) (3.16.2)\n",
      "Requirement already satisfied: attrs>=19.2.0 in /Users/khanhmac/miniconda3/envs/py38/lib/python3.8/site-packages (from jsonlines->voxel51-eta<0.11,>=0.10->fiftyone==0.21.4) (23.1.0)\n",
      "Requirement already satisfied: texttable in /Users/khanhmac/miniconda3/envs/py38/lib/python3.8/site-packages (from py7zr->voxel51-eta<0.11,>=0.10->fiftyone==0.21.4) (1.6.7)\n",
      "Requirement already satisfied: pycryptodomex>=3.6.6 in /Users/khanhmac/miniconda3/envs/py38/lib/python3.8/site-packages (from py7zr->voxel51-eta<0.11,>=0.10->fiftyone==0.21.4) (3.18.0)\n",
      "Requirement already satisfied: pyzstd>=0.14.4 in /Users/khanhmac/miniconda3/envs/py38/lib/python3.8/site-packages (from py7zr->voxel51-eta<0.11,>=0.10->fiftyone==0.21.4) (0.15.9)\n",
      "Requirement already satisfied: pyppmd<1.1.0,>=0.18.1 in /Users/khanhmac/miniconda3/envs/py38/lib/python3.8/site-packages (from py7zr->voxel51-eta<0.11,>=0.10->fiftyone==0.21.4) (1.0.0)\n",
      "Requirement already satisfied: pybcj>=0.6.0 in /Users/khanhmac/miniconda3/envs/py38/lib/python3.8/site-packages (from py7zr->voxel51-eta<0.11,>=0.10->fiftyone==0.21.4) (1.0.1)\n",
      "Requirement already satisfied: multivolumefile>=0.2.3 in /Users/khanhmac/miniconda3/envs/py38/lib/python3.8/site-packages (from py7zr->voxel51-eta<0.11,>=0.10->fiftyone==0.21.4) (0.2.3)\n",
      "Requirement already satisfied: brotli>=1.0.9 in /Users/khanhmac/miniconda3/envs/py38/lib/python3.8/site-packages (from py7zr->voxel51-eta<0.11,>=0.10->fiftyone==0.21.4) (1.0.9)\n",
      "Requirement already satisfied: inflate64>=0.3.1 in /Users/khanhmac/miniconda3/envs/py38/lib/python3.8/site-packages (from py7zr->voxel51-eta<0.11,>=0.10->fiftyone==0.21.4) (0.3.1)\n",
      "Requirement already satisfied: charset-normalizer<4,>=2 in /Users/khanhmac/miniconda3/envs/py38/lib/python3.8/site-packages (from requests->voxel51-eta<0.11,>=0.10->fiftyone==0.21.4) (3.2.0)\n",
      "Requirement already satisfied: backports.zoneinfo in /Users/khanhmac/miniconda3/envs/py38/lib/python3.8/site-packages (from tzlocal->voxel51-eta<0.11,>=0.10->fiftyone==0.21.4) (0.2.1)\n",
      "Requirement already satisfied: torch in /Users/khanhmac/miniconda3/envs/py38/lib/python3.8/site-packages (2.0.1)\n",
      "Requirement already satisfied: torchvision in /Users/khanhmac/miniconda3/envs/py38/lib/python3.8/site-packages (0.15.2)\n",
      "Requirement already satisfied: torchaudio in /Users/khanhmac/miniconda3/envs/py38/lib/python3.8/site-packages (2.0.2)\n",
      "Requirement already satisfied: filelock in /Users/khanhmac/miniconda3/envs/py38/lib/python3.8/site-packages (from torch) (3.12.2)\n",
      "Requirement already satisfied: typing-extensions in /Users/khanhmac/miniconda3/envs/py38/lib/python3.8/site-packages (from torch) (4.7.1)\n",
      "Requirement already satisfied: sympy in /Users/khanhmac/miniconda3/envs/py38/lib/python3.8/site-packages (from torch) (1.12)\n",
      "Requirement already satisfied: networkx in /Users/khanhmac/miniconda3/envs/py38/lib/python3.8/site-packages (from torch) (3.1)\n",
      "Requirement already satisfied: jinja2 in /Users/khanhmac/miniconda3/envs/py38/lib/python3.8/site-packages (from torch) (3.1.2)\n",
      "Requirement already satisfied: numpy in /Users/khanhmac/miniconda3/envs/py38/lib/python3.8/site-packages (from torchvision) (1.24.4)\n",
      "Requirement already satisfied: requests in /Users/khanhmac/miniconda3/envs/py38/lib/python3.8/site-packages (from torchvision) (2.31.0)\n",
      "Requirement already satisfied: pillow!=8.3.*,>=5.3.0 in /Users/khanhmac/miniconda3/envs/py38/lib/python3.8/site-packages (from torchvision) (10.0.0)\n",
      "Requirement already satisfied: MarkupSafe>=2.0 in /Users/khanhmac/miniconda3/envs/py38/lib/python3.8/site-packages (from jinja2->torch) (2.1.3)\n",
      "Requirement already satisfied: charset-normalizer<4,>=2 in /Users/khanhmac/miniconda3/envs/py38/lib/python3.8/site-packages (from requests->torchvision) (3.2.0)\n",
      "Requirement already satisfied: idna<4,>=2.5 in /Users/khanhmac/miniconda3/envs/py38/lib/python3.8/site-packages (from requests->torchvision) (3.4)\n",
      "Requirement already satisfied: urllib3<3,>=1.21.1 in /Users/khanhmac/miniconda3/envs/py38/lib/python3.8/site-packages (from requests->torchvision) (1.26.16)\n",
      "Requirement already satisfied: certifi>=2017.4.17 in /Users/khanhmac/miniconda3/envs/py38/lib/python3.8/site-packages (from requests->torchvision) (2023.7.22)\n",
      "Requirement already satisfied: mpmath>=0.19 in /Users/khanhmac/miniconda3/envs/py38/lib/python3.8/site-packages (from sympy->torch) (1.3.0)\n"
     ]
    }
   ],
   "source": [
    "! pip install fiftyone==0.21.4\n",
    "! pip install torch torchvision torchaudio"
   ]
  },
  {
   "cell_type": "markdown",
   "id": "fb9afb40",
   "metadata": {
    "id": "fb9afb40"
   },
   "source": [
    "Load dữ liệu keyframe từ thư mục chứa keyframe. Mỗi ảnh và thông tin đi kèm sau này sẽ được lưu trữ trong một Sample. Tất cả các Sample được lưu trong Dataset."
   ]
  },
  {
   "cell_type": "code",
   "execution_count": 2,
   "id": "357d4489",
   "metadata": {
    "colab": {
     "base_uri": "https://localhost:8080/",
     "height": 402
    },
    "executionInfo": {
     "elapsed": 63974,
     "status": "error",
     "timestamp": 1692878838677,
     "user": {
      "displayName": "Khanh Duong",
      "userId": "02272471262918357102"
     },
     "user_tz": -420
    },
    "id": "357d4489",
    "outputId": "c4d5d764-3f20-4043-fa5c-893c511abbd5"
   },
   "outputs": [],
   "source": [
    "import fiftyone as fo\n",
    "import fiftyone.brain as fob\n",
    "import numpy as np\n",
    "from glob import glob\n",
    "import json\n",
    "import os\n",
    "\n"
   ]
  },
  {
   "cell_type": "markdown",
   "id": "36b7ba43",
   "metadata": {
    "id": "36b7ba43"
   },
   "source": [
    "Load dữ liệu keyframe từ thư mục chứa keyframe. Trong hướng dẫn này tất cả các file Keyframes_L*.zip được giải nén vào thư mục `D:\\AIC\\Keyframes`. Mỗi ảnh và thông tin đi kèm sau này sẽ được lưu trữ trong một `Sample`. Tất cả các `Sample` được lưu trong `Dataset`."
   ]
  },
  {
   "cell_type": "code",
   "execution_count": 6,
   "id": "9e072688",
   "metadata": {
    "id": "9e072688"
   },
   "outputs": [
    {
     "name": "stdout",
     "output_type": "stream",
     "text": []
    },
    {
     "name": "stdout",
     "output_type": "stream",
     "text": [
      " 100% |███████████████| 7658/7658 [1.8s elapsed, 0s remaining, 4.3K samples/s]         \n"
     ]
    }
   ],
   "source": [
    "dataset = fo.Dataset.from_images_dir('data/keyframes', name=None, tags=None, recursive=True)"
   ]
  },
  {
   "cell_type": "markdown",
   "id": "9b89e71c",
   "metadata": {
    "id": "9b89e71c"
   },
   "source": [
    "Sau khi dữ liệu đã load lên xong. Bạn có thể truy cập vào đường vào ứng dụng web của fiftyone từ [http://localhost:5151](http://localhost:5151)"
   ]
  },
  {
   "cell_type": "code",
   "execution_count": 10,
   "id": "58be11b8",
   "metadata": {
    "id": "58be11b8"
   },
   "outputs": [
    {
     "ename": "RuntimeError",
     "evalue": "Client is not connected",
     "output_type": "error",
     "traceback": [
      "\u001b[0;31m---------------------------------------------------------------------------\u001b[0m",
      "\u001b[0;31mRuntimeError\u001b[0m                              Traceback (most recent call last)",
      "Cell \u001b[0;32mIn[10], line 1\u001b[0m\n\u001b[0;32m----> 1\u001b[0m session \u001b[38;5;241m=\u001b[39m \u001b[43mfo\u001b[49m\u001b[38;5;241;43m.\u001b[39;49m\u001b[43mlaunch_app\u001b[49m\u001b[43m(\u001b[49m\u001b[43mdataset\u001b[49m\u001b[43m,\u001b[49m\u001b[43m \u001b[49m\u001b[43mauto\u001b[49m\u001b[38;5;241;43m=\u001b[39;49m\u001b[38;5;28;43;01mFalse\u001b[39;49;00m\u001b[43m)\u001b[49m\n",
      "File \u001b[0;32m~/miniconda3/envs/py38/lib/python3.8/site-packages/fiftyone/core/session/session.py:195\u001b[0m, in \u001b[0;36mlaunch_app\u001b[0;34m(dataset, view, spaces, color_scheme, plots, port, address, remote, desktop, height, auto, config)\u001b[0m\n\u001b[1;32m    183\u001b[0m \u001b[38;5;28;01mglobal\u001b[39;00m _session  \u001b[38;5;66;03m# pylint: disable=global-statement\u001b[39;00m\n\u001b[1;32m    185\u001b[0m \u001b[38;5;66;03m#\u001b[39;00m\n\u001b[1;32m    186\u001b[0m \u001b[38;5;66;03m# Note, we always `close_app()` here rather than just calling\u001b[39;00m\n\u001b[1;32m    187\u001b[0m \u001b[38;5;66;03m# `session.open()` if a session already exists, because the app may have\u001b[39;00m\n\u001b[0;32m   (...)\u001b[0m\n\u001b[1;32m    193\u001b[0m \u001b[38;5;66;03m# @todo this can probably be improved\u001b[39;00m\n\u001b[1;32m    194\u001b[0m \u001b[38;5;66;03m#\u001b[39;00m\n\u001b[0;32m--> 195\u001b[0m \u001b[43mclose_app\u001b[49m\u001b[43m(\u001b[49m\u001b[43m)\u001b[49m\n\u001b[1;32m    197\u001b[0m _session \u001b[38;5;241m=\u001b[39m Session(\n\u001b[1;32m    198\u001b[0m     dataset\u001b[38;5;241m=\u001b[39mdataset,\n\u001b[1;32m    199\u001b[0m     view\u001b[38;5;241m=\u001b[39mview,\n\u001b[0;32m   (...)\u001b[0m\n\u001b[1;32m    209\u001b[0m     config\u001b[38;5;241m=\u001b[39mconfig,\n\u001b[1;32m    210\u001b[0m )\n\u001b[1;32m    212\u001b[0m \u001b[38;5;28;01mif\u001b[39;00m _session\u001b[38;5;241m.\u001b[39mremote:\n",
      "File \u001b[0;32m~/miniconda3/envs/py38/lib/python3.8/site-packages/fiftyone/core/session/session.py:234\u001b[0m, in \u001b[0;36mclose_app\u001b[0;34m()\u001b[0m\n\u001b[1;32m    232\u001b[0m \u001b[38;5;28;01mglobal\u001b[39;00m _session  \u001b[38;5;66;03m# pylint: disable=global-statement\u001b[39;00m\n\u001b[1;32m    233\u001b[0m \u001b[38;5;28;01mif\u001b[39;00m _session \u001b[38;5;129;01mis\u001b[39;00m \u001b[38;5;129;01mnot\u001b[39;00m \u001b[38;5;28;01mNone\u001b[39;00m:\n\u001b[0;32m--> 234\u001b[0m     \u001b[43m_session\u001b[49m\u001b[38;5;241;43m.\u001b[39;49m\u001b[43mclose\u001b[49m\u001b[43m(\u001b[49m\u001b[43m)\u001b[49m\n\u001b[1;32m    235\u001b[0m     _session \u001b[38;5;241m=\u001b[39m \u001b[38;5;28;01mNone\u001b[39;00m\n",
      "File \u001b[0;32m~/miniconda3/envs/py38/lib/python3.8/site-packages/fiftyone/core/session/session.py:1111\u001b[0m, in \u001b[0;36mSession.close\u001b[0;34m(self)\u001b[0m\n\u001b[1;32m   1108\u001b[0m     \u001b[38;5;28mself\u001b[39m\u001b[38;5;241m.\u001b[39m_app_service\u001b[38;5;241m.\u001b[39mstop()\n\u001b[1;32m   1110\u001b[0m \u001b[38;5;28;01mif\u001b[39;00m \u001b[38;5;28mself\u001b[39m\u001b[38;5;241m.\u001b[39m_client\u001b[38;5;241m.\u001b[39mis_open \u001b[38;5;129;01mand\u001b[39;00m focx\u001b[38;5;241m.\u001b[39mis_notebook_context():\n\u001b[0;32m-> 1111\u001b[0m     \u001b[38;5;28;43mself\u001b[39;49m\u001b[38;5;241;43m.\u001b[39;49m\u001b[43mfreeze\u001b[49m\u001b[43m(\u001b[49m\u001b[43m)\u001b[49m\n\u001b[1;32m   1113\u001b[0m \u001b[38;5;28mself\u001b[39m\u001b[38;5;241m.\u001b[39mplots\u001b[38;5;241m.\u001b[39mdisconnect()\n\u001b[1;32m   1114\u001b[0m \u001b[38;5;28mself\u001b[39m\u001b[38;5;241m.\u001b[39m\u001b[38;5;21m__del__\u001b[39m()\n",
      "File \u001b[0;32m~/miniconda3/envs/py38/lib/python3.8/site-packages/fiftyone/core/session/session.py:1125\u001b[0m, in \u001b[0;36mSession.freeze\u001b[0;34m(self)\u001b[0m\n\u001b[1;32m   1122\u001b[0m     logger\u001b[38;5;241m.\u001b[39mwarning(\u001b[38;5;124m\"\u001b[39m\u001b[38;5;124mOnly notebook sessions can be frozen\u001b[39m\u001b[38;5;124m\"\u001b[39m)\n\u001b[1;32m   1123\u001b[0m     \u001b[38;5;28;01mreturn\u001b[39;00m\n\u001b[0;32m-> 1125\u001b[0m \u001b[38;5;28;43mself\u001b[39;49m\u001b[38;5;241;43m.\u001b[39;49m\u001b[43m_client\u001b[49m\u001b[38;5;241;43m.\u001b[39;49m\u001b[43msend_event\u001b[49m\u001b[43m(\u001b[49m\u001b[43mDeactivateNotebookCell\u001b[49m\u001b[43m(\u001b[49m\u001b[43m)\u001b[49m\u001b[43m)\u001b[49m\n\u001b[1;32m   1126\u001b[0m \u001b[38;5;28mself\u001b[39m\u001b[38;5;241m.\u001b[39mplots\u001b[38;5;241m.\u001b[39mfreeze()\n",
      "File \u001b[0;32m~/miniconda3/envs/py38/lib/python3.8/site-packages/fiftyone/core/session/client.py:145\u001b[0m, in \u001b[0;36mClient.send_event\u001b[0;34m(self, event)\u001b[0m\n\u001b[1;32m    142\u001b[0m     \u001b[38;5;28;01mreturn\u001b[39;00m\n\u001b[1;32m    144\u001b[0m \u001b[38;5;28;01mif\u001b[39;00m \u001b[38;5;129;01mnot\u001b[39;00m \u001b[38;5;28mself\u001b[39m\u001b[38;5;241m.\u001b[39m_connected:\n\u001b[0;32m--> 145\u001b[0m     \u001b[38;5;28;01mraise\u001b[39;00m \u001b[38;5;167;01mRuntimeError\u001b[39;00m(\u001b[38;5;124m\"\u001b[39m\u001b[38;5;124mClient is not connected\u001b[39m\u001b[38;5;124m\"\u001b[39m)\n\u001b[1;32m    147\u001b[0m \u001b[38;5;28mself\u001b[39m\u001b[38;5;241m.\u001b[39m_post_event(event)\n\u001b[1;32m    148\u001b[0m \u001b[38;5;28mself\u001b[39m\u001b[38;5;241m.\u001b[39m_dispatch_event(event)\n",
      "\u001b[0;31mRuntimeError\u001b[0m: Client is not connected"
     ]
    }
   ],
   "source": [
    "session = fo.launch_app(dataset, auto=False)"
   ]
  },
  {
   "cell_type": "markdown",
   "id": "078ce744",
   "metadata": {
    "id": "078ce744"
   },
   "source": [
    "Hoặc bạn có thể chạy cell bên dưới để mở tab mới cho ứng dụng web fiftyone"
   ]
  },
  {
   "cell_type": "code",
   "execution_count": 8,
   "id": "bce0d9ce",
   "metadata": {
    "id": "bce0d9ce"
   },
   "outputs": [
    {
     "data": {
      "application/javascript": "window.open('http://localhost:5151/');",
      "text/plain": [
       "<IPython.core.display.Javascript object>"
      ]
     },
     "metadata": {},
     "output_type": "display_data"
    },
    {
     "name": "stdout",
     "output_type": "stream",
     "text": [
      "\n",
      "Could not connect session, trying again in 10 seconds\n",
      "\n",
      "\n",
      "Could not connect session, trying again in 10 seconds\n",
      "\n",
      "\n",
      "Could not connect session, trying again in 10 seconds\n",
      "\n",
      "\n",
      "Could not connect session, trying again in 10 seconds\n",
      "\n",
      "\n",
      "Could not connect session, trying again in 10 seconds\n",
      "\n",
      "\n",
      "Could not connect session, trying again in 10 seconds\n",
      "\n",
      "\n",
      "Could not connect session, trying again in 10 seconds\n",
      "\n",
      "\n",
      "Could not connect session, trying again in 10 seconds\n",
      "\n",
      "\n",
      "Could not connect session, trying again in 10 seconds\n",
      "\n",
      "\n",
      "Could not connect session, trying again in 10 seconds\n",
      "\n"
     ]
    }
   ],
   "source": [
    "session.open_tab()"
   ]
  },
  {
   "cell_type": "markdown",
   "id": "28298924",
   "metadata": {
    "id": "28298924"
   },
   "source": [
    "### Trích xuất thêm thông tin tên của video và frameid\n",
    "Thông tin `video` và `frameid` sẽ được lấy từ tên của tập tin keyframe."
   ]
  },
  {
   "cell_type": "code",
   "execution_count": null,
   "id": "a8ee02ad",
   "metadata": {
    "id": "a8ee02ad"
   },
   "outputs": [],
   "source": [
    "for sample in dataset:\n",
    "    _, sample['video'], sample['frameid'] = sample['filepath'][:-4].rsplit('\\\\', 2)\n",
    "    sample.save()"
   ]
  },
  {
   "cell_type": "markdown",
   "id": "11d66008",
   "metadata": {
    "id": "11d66008"
   },
   "source": [
    "Bạn có thể xem `Sample` đầu tiên của `Dataset` bằng lệnh sau:"
   ]
  },
  {
   "cell_type": "code",
   "execution_count": null,
   "id": "6997ef1c",
   "metadata": {
    "id": "6997ef1c"
   },
   "outputs": [],
   "source": [
    "print(dataset.first())"
   ]
  },
  {
   "cell_type": "markdown",
   "id": "4309a34f",
   "metadata": {
    "id": "4309a34f"
   },
   "source": [
    "### Thêm thông tin kết quả của object detection.\n",
    "\n",
    "Bước này có thể tốn của bạn nhiều thời gian để đọc hết tất cả các dữ liệu về object detection. Bạn có thể bỏ qua cell này và chạy cell này sau nếu muốn thử thêm các thông tin về vector CLIP embedding trước."
   ]
  },
  {
   "cell_type": "code",
   "execution_count": null,
   "id": "ad1c4395",
   "metadata": {
    "id": "ad1c4395"
   },
   "outputs": [],
   "source": [
    "for sample in dataset:\n",
    "    object_path = f\"D:\\\\AIC\\\\objects\\\\{sample['video']}\\\\{sample['frameid']}.json\"\n",
    "    with open(object_path) as jsonfile:\n",
    "        det_data = json.load(jsonfile)\n",
    "    detections = []\n",
    "    for cls, box, score in zip(det_data['detection_class_entities'], det_data['detection_boxes'], det_data['detection_scores']):\n",
    "        # Convert to [top-left-x, top-left-y, width, height]\n",
    "        boxf = [float(box[1]), float(box[0]), float(box[3]) - float(box[1]), float(box[2]) - float(box[0])]\n",
    "        scoref = float(score)\n",
    "\n",
    "        # Only add objects with confidence > 0.4\n",
    "        if scoref > 0.4:\n",
    "            detections.append(\n",
    "                fo.Detection(\n",
    "                    label=cls,\n",
    "                    bounding_box= boxf,\n",
    "                    confidence=float(score)\n",
    "                )\n",
    "            )\n",
    "    sample[\"object_faster_rcnn\"] = fo.Detections(detections=detections)\n",
    "    sample.save()\n"
   ]
  },
  {
   "cell_type": "markdown",
   "id": "e287dbb4",
   "metadata": {
    "id": "e287dbb4"
   },
   "source": [
    "### Thêm thông tin CLIP embedding."
   ]
  },
  {
   "cell_type": "code",
   "execution_count": null,
   "id": "58d5d9ca",
   "metadata": {
    "id": "58d5d9ca"
   },
   "outputs": [],
   "source": [
    "all_keyframe = glob('D:\\\\AIC\\\\Keyframes\\\\*\\\\keyframes\\\\*\\\\*.jpg')\n",
    "video_keyframe_dict = {}\n",
    "all_video = glob('D:\\\\AIC\\\\Keyframes\\\\*\\\\keyframes\\\\*')\n",
    "all_video = [v.rsplit('\\\\',1)[-1] for v in all_video]"
   ]
  },
  {
   "cell_type": "markdown",
   "id": "53460b70",
   "metadata": {
    "id": "53460b70"
   },
   "source": [
    "Đọc thông tin clip embedding được cung cấp.\n",
    "\n",
    "Lưu ý: Các bạn cần tải đúng bản CLIP embedding từ model **CLIP ViT-B/32**"
   ]
  },
  {
   "cell_type": "markdown",
   "id": "cb927629",
   "metadata": {
    "id": "cb927629"
   },
   "source": [
    "Tạo dictionary `video_keyframe_dict` với `video_keyframe_dict[video]` thông tin danh sách `keyframe` của `video`"
   ]
  },
  {
   "cell_type": "code",
   "execution_count": null,
   "id": "f33da133",
   "metadata": {
    "id": "f33da133"
   },
   "outputs": [],
   "source": [
    "for kf in all_keyframe:\n",
    "    _, vid, kf = kf[:-4].rsplit('\\\\',2)\n",
    "    if vid not in video_keyframe_dict.keys():\n",
    "        video_keyframe_dict[vid] = [kf]\n",
    "    else:\n",
    "        video_keyframe_dict[vid].append(kf)"
   ]
  },
  {
   "cell_type": "markdown",
   "id": "faefe0bf",
   "metadata": {
    "id": "faefe0bf"
   },
   "source": [
    "Do thông tin vector CLIP embedding được cung cấp được lưu theo từng video nhầm mục đích tối ưu thời gian đọc dữ liệu. Cần sort lại danh sách `keyframe` của từng `video` để đảm bảo thứ tự đọc đúng với vector embedding được cung cấp."
   ]
  },
  {
   "cell_type": "code",
   "execution_count": null,
   "id": "4b0fad7a",
   "metadata": {
    "id": "4b0fad7a"
   },
   "outputs": [],
   "source": [
    "for k,v in video_keyframe_dict.items():\n",
    "    video_keyframe_dict[k] = sorted(v)"
   ]
  },
  {
   "cell_type": "markdown",
   "id": "9d99d121",
   "metadata": {
    "id": "9d99d121"
   },
   "source": [
    "Tạo dictionary `embedding_dict` với `embedding_dict[video][keyframe]` lưu thông tin vector CLIP embedding của `keyframe` trong `video` tương ứng"
   ]
  },
  {
   "cell_type": "code",
   "execution_count": null,
   "id": "a5d94d7b",
   "metadata": {
    "id": "a5d94d7b"
   },
   "outputs": [],
   "source": [
    "embedding_dict = {}\n",
    "for v in all_video:\n",
    "    clip_path = f'D:\\\\AIC\\\\clip-features-vit-b32\\\\{v}.npy'\n",
    "    a = np.load(clip_path)\n",
    "    embedding_dict[v] = {}\n",
    "    for i,k in enumerate(video_keyframe_dict[v]):\n",
    "        embedding_dict[v][k] = a[i]\n"
   ]
  },
  {
   "cell_type": "markdown",
   "id": "5ea0432e",
   "metadata": {
    "id": "5ea0432e"
   },
   "source": [
    "Tạo danh sách `clip_embedding` ứng với danh sách `sample` trong `dataset`."
   ]
  },
  {
   "cell_type": "code",
   "execution_count": null,
   "id": "1ad16b5c",
   "metadata": {
    "id": "1ad16b5c"
   },
   "outputs": [],
   "source": [
    "clip_embeddings = []\n",
    "for sample in dataset:\n",
    "    clip_embedding = embedding_dict[sample['video']][sample['frameid']]\n",
    "    clip_embeddings.append(clip_embedding)\n"
   ]
  },
  {
   "cell_type": "code",
   "execution_count": null,
   "id": "655d2feb",
   "metadata": {
    "id": "655d2feb"
   },
   "outputs": [],
   "source": [
    "fob.compute_similarity(\n",
    "    dataset,\n",
    "    model=\"clip-vit-base32-torch\",      # store model's name for future use\n",
    "    embeddings=clip_embeddings,          # precomputed image embeddings\n",
    "    brain_key=\"img_sim\",\n",
    ")"
   ]
  },
  {
   "cell_type": "markdown",
   "id": "99223338",
   "metadata": {
    "id": "99223338"
   },
   "source": [
    "## Từ đây các bạn có thể thử các tính năng search, filter trên ứng dụng fiftyone."
   ]
  },
  {
   "cell_type": "code",
   "execution_count": null,
   "id": "46605386",
   "metadata": {
    "id": "46605386"
   },
   "outputs": [],
   "source": [
    "# Bạn cần phải cài version umap-learn hỗ trợ.\n",
    "# fob.compute_visualization(\n",
    "#     dataset,\n",
    "#     embeddings=clip_embeddings,\n",
    "#     brain_key=\"img_viz\"\n",
    "# )\n"
   ]
  },
  {
   "cell_type": "markdown",
   "id": "381972d8",
   "metadata": {
    "id": "381972d8"
   },
   "source": []
  }
 ],
 "metadata": {
  "colab": {
   "provenance": []
  },
  "kernelspec": {
   "display_name": "Python 3 (ipykernel)",
   "language": "python",
   "name": "python3"
  },
  "language_info": {
   "codemirror_mode": {
    "name": "ipython",
    "version": 3
   },
   "file_extension": ".py",
   "mimetype": "text/x-python",
   "name": "python",
   "nbconvert_exporter": "python",
   "pygments_lexer": "ipython3",
   "version": "3.8.0"
  }
 },
 "nbformat": 4,
 "nbformat_minor": 5
}
